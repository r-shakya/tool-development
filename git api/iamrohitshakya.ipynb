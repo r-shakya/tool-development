{
 "cells": [
  {
   "cell_type": "code",
   "execution_count": 24,
   "metadata": {},
   "outputs": [],
   "source": [
    "import requests"
   ]
  },
  {
   "cell_type": "code",
   "execution_count": 26,
   "metadata": {},
   "outputs": [
    {
     "name": "stdout",
     "output_type": "stream",
     "text": [
      "<Response [200]>\n",
      "<Response [200]>\n"
     ]
    }
   ],
   "source": [
    "issues_list=[]\n",
    "username=\"iamrohitshakya\"\n",
    "repo=\"iamrohitshakya.github.io\"\n",
    "url=f\"https://api.github.com/repos/{username}/{repo}/issues\"\n",
    "pageno=1\n",
    "res=10\n",
    "while(res==10):\n",
    "    params = {\n",
    "        \"state\": \"open\",\n",
    "        \"per_page\": \"10\",\n",
    "        \"page\":pageno,\n",
    "    }\n",
    "    pageno=pageno+1\n",
    "    headers = {}\n",
    "    response = requests.get(url,headers=headers, params=params)\n",
    "    issues_list=issues_list+response.json()\n",
    "    res=len(response.json())\n",
    "    print(response)"
   ]
  },
  {
   "cell_type": "code",
   "execution_count": 27,
   "metadata": {},
   "outputs": [
    {
     "name": "stdout",
     "output_type": "stream",
     "text": [
      "[{'url': 'https://api.github.com/repos/iamrohitshakya/iamrohitshakya.github.io/issues/17', 'repository_url': 'https://api.github.com/repos/iamrohitshakya/iamrohitshakya.github.io', 'labels_url': 'https://api.github.com/repos/iamrohitshakya/iamrohitshakya.github.io/issues/17/labels{/name}', 'comments_url': 'https://api.github.com/repos/iamrohitshakya/iamrohitshakya.github.io/issues/17/comments', 'events_url': 'https://api.github.com/repos/iamrohitshakya/iamrohitshakya.github.io/issues/17/events', 'html_url': 'https://github.com/iamrohitshakya/iamrohitshakya.github.io/issues/17', 'id': 816321627, 'node_id': 'MDU6SXNzdWU4MTYzMjE2Mjc=', 'number': 17, 'title': 'kuch bhi', 'user': {'login': 'rohit-cs18b029', 'id': 54976520, 'node_id': 'MDQ6VXNlcjU0OTc2NTIw', 'avatar_url': 'https://avatars.githubusercontent.com/u/54976520?v=4', 'gravatar_id': '', 'url': 'https://api.github.com/users/rohit-cs18b029', 'html_url': 'https://github.com/rohit-cs18b029', 'followers_url': 'https://api.github.com/users/rohit-cs18b029/followers', 'following_url': 'https://api.github.com/users/rohit-cs18b029/following{/other_user}', 'gists_url': 'https://api.github.com/users/rohit-cs18b029/gists{/gist_id}', 'starred_url': 'https://api.github.com/users/rohit-cs18b029/starred{/owner}{/repo}', 'subscriptions_url': 'https://api.github.com/users/rohit-cs18b029/subscriptions', 'organizations_url': 'https://api.github.com/users/rohit-cs18b029/orgs', 'repos_url': 'https://api.github.com/users/rohit-cs18b029/repos', 'events_url': 'https://api.github.com/users/rohit-cs18b029/events{/privacy}', 'received_events_url': 'https://api.github.com/users/rohit-cs18b029/received_events', 'type': 'User', 'site_admin': False}, 'labels': [{'id': 2666986514, 'node_id': 'MDU6TGFiZWwyNjY2OTg2NTE0', 'url': 'https://api.github.com/repos/iamrohitshakya/iamrohitshakya.github.io/labels/bug', 'name': 'bug', 'color': 'd73a4a', 'default': True, 'description': \"Something isn't working\"}], 'state': 'open', 'locked': False, 'assignee': None, 'assignees': [], 'milestone': None, 'comments': 0, 'created_at': '2021-02-25T10:51:45Z', 'updated_at': '2021-02-25T10:51:45Z', 'closed_at': None, 'author_association': 'COLLABORATOR', 'active_lock_reason': None, 'body': '', 'performed_via_github_app': None}, {'url': 'https://api.github.com/repos/iamrohitshakya/iamrohitshakya.github.io/issues/16', 'repository_url': 'https://api.github.com/repos/iamrohitshakya/iamrohitshakya.github.io', 'labels_url': 'https://api.github.com/repos/iamrohitshakya/iamrohitshakya.github.io/issues/16/labels{/name}', 'comments_url': 'https://api.github.com/repos/iamrohitshakya/iamrohitshakya.github.io/issues/16/comments', 'events_url': 'https://api.github.com/repos/iamrohitshakya/iamrohitshakya.github.io/issues/16/events', 'html_url': 'https://github.com/iamrohitshakya/iamrohitshakya.github.io/issues/16', 'id': 814342169, 'node_id': 'MDU6SXNzdWU4MTQzNDIxNjk=', 'number': 16, 'title': 'server problem', 'user': {'login': 'rohit-cs18b029', 'id': 54976520, 'node_id': 'MDQ6VXNlcjU0OTc2NTIw', 'avatar_url': 'https://avatars.githubusercontent.com/u/54976520?v=4', 'gravatar_id': '', 'url': 'https://api.github.com/users/rohit-cs18b029', 'html_url': 'https://github.com/rohit-cs18b029', 'followers_url': 'https://api.github.com/users/rohit-cs18b029/followers', 'following_url': 'https://api.github.com/users/rohit-cs18b029/following{/other_user}', 'gists_url': 'https://api.github.com/users/rohit-cs18b029/gists{/gist_id}', 'starred_url': 'https://api.github.com/users/rohit-cs18b029/starred{/owner}{/repo}', 'subscriptions_url': 'https://api.github.com/users/rohit-cs18b029/subscriptions', 'organizations_url': 'https://api.github.com/users/rohit-cs18b029/orgs', 'repos_url': 'https://api.github.com/users/rohit-cs18b029/repos', 'events_url': 'https://api.github.com/users/rohit-cs18b029/events{/privacy}', 'received_events_url': 'https://api.github.com/users/rohit-cs18b029/received_events', 'type': 'User', 'site_admin': False}, 'labels': [], 'state': 'open', 'locked': False, 'assignee': None, 'assignees': [], 'milestone': None, 'comments': 4, 'created_at': '2021-02-23T10:46:32Z', 'updated_at': '2021-02-24T08:52:58Z', 'closed_at': None, 'author_association': 'COLLABORATOR', 'active_lock_reason': None, 'body': '', 'performed_via_github_app': None}, {'url': 'https://api.github.com/repos/iamrohitshakya/iamrohitshakya.github.io/issues/15', 'repository_url': 'https://api.github.com/repos/iamrohitshakya/iamrohitshakya.github.io', 'labels_url': 'https://api.github.com/repos/iamrohitshakya/iamrohitshakya.github.io/issues/15/labels{/name}', 'comments_url': 'https://api.github.com/repos/iamrohitshakya/iamrohitshakya.github.io/issues/15/comments', 'events_url': 'https://api.github.com/repos/iamrohitshakya/iamrohitshakya.github.io/issues/15/events', 'html_url': 'https://github.com/iamrohitshakya/iamrohitshakya.github.io/issues/15', 'id': 814333863, 'node_id': 'MDU6SXNzdWU4MTQzMzM4NjM=', 'number': 15, 'title': 'authentication error', 'user': {'login': 'rohit-cs18b029', 'id': 54976520, 'node_id': 'MDQ6VXNlcjU0OTc2NTIw', 'avatar_url': 'https://avatars.githubusercontent.com/u/54976520?v=4', 'gravatar_id': '', 'url': 'https://api.github.com/users/rohit-cs18b029', 'html_url': 'https://github.com/rohit-cs18b029', 'followers_url': 'https://api.github.com/users/rohit-cs18b029/followers', 'following_url': 'https://api.github.com/users/rohit-cs18b029/following{/other_user}', 'gists_url': 'https://api.github.com/users/rohit-cs18b029/gists{/gist_id}', 'starred_url': 'https://api.github.com/users/rohit-cs18b029/starred{/owner}{/repo}', 'subscriptions_url': 'https://api.github.com/users/rohit-cs18b029/subscriptions', 'organizations_url': 'https://api.github.com/users/rohit-cs18b029/orgs', 'repos_url': 'https://api.github.com/users/rohit-cs18b029/repos', 'events_url': 'https://api.github.com/users/rohit-cs18b029/events{/privacy}', 'received_events_url': 'https://api.github.com/users/rohit-cs18b029/received_events', 'type': 'User', 'site_admin': False}, 'labels': [], 'state': 'open', 'locked': False, 'assignee': None, 'assignees': [], 'milestone': None, 'comments': 0, 'created_at': '2021-02-23T10:35:48Z', 'updated_at': '2021-02-23T10:35:48Z', 'closed_at': None, 'author_association': 'COLLABORATOR', 'active_lock_reason': None, 'body': '', 'performed_via_github_app': None}, {'url': 'https://api.github.com/repos/iamrohitshakya/iamrohitshakya.github.io/issues/14', 'repository_url': 'https://api.github.com/repos/iamrohitshakya/iamrohitshakya.github.io', 'labels_url': 'https://api.github.com/repos/iamrohitshakya/iamrohitshakya.github.io/issues/14/labels{/name}', 'comments_url': 'https://api.github.com/repos/iamrohitshakya/iamrohitshakya.github.io/issues/14/comments', 'events_url': 'https://api.github.com/repos/iamrohitshakya/iamrohitshakya.github.io/issues/14/events', 'html_url': 'https://github.com/iamrohitshakya/iamrohitshakya.github.io/issues/14', 'id': 814333123, 'node_id': 'MDU6SXNzdWU4MTQzMzMxMjM=', 'number': 14, 'title': 'need to fix login system', 'user': {'login': 'rohit-cs18b029', 'id': 54976520, 'node_id': 'MDQ6VXNlcjU0OTc2NTIw', 'avatar_url': 'https://avatars.githubusercontent.com/u/54976520?v=4', 'gravatar_id': '', 'url': 'https://api.github.com/users/rohit-cs18b029', 'html_url': 'https://github.com/rohit-cs18b029', 'followers_url': 'https://api.github.com/users/rohit-cs18b029/followers', 'following_url': 'https://api.github.com/users/rohit-cs18b029/following{/other_user}', 'gists_url': 'https://api.github.com/users/rohit-cs18b029/gists{/gist_id}', 'starred_url': 'https://api.github.com/users/rohit-cs18b029/starred{/owner}{/repo}', 'subscriptions_url': 'https://api.github.com/users/rohit-cs18b029/subscriptions', 'organizations_url': 'https://api.github.com/users/rohit-cs18b029/orgs', 'repos_url': 'https://api.github.com/users/rohit-cs18b029/repos', 'events_url': 'https://api.github.com/users/rohit-cs18b029/events{/privacy}', 'received_events_url': 'https://api.github.com/users/rohit-cs18b029/received_events', 'type': 'User', 'site_admin': False}, 'labels': [], 'state': 'open', 'locked': False, 'assignee': None, 'assignees': [], 'milestone': None, 'comments': 0, 'created_at': '2021-02-23T10:34:51Z', 'updated_at': '2021-02-23T10:34:51Z', 'closed_at': None, 'author_association': 'COLLABORATOR', 'active_lock_reason': None, 'body': '', 'performed_via_github_app': None}, {'url': 'https://api.github.com/repos/iamrohitshakya/iamrohitshakya.github.io/issues/13', 'repository_url': 'https://api.github.com/repos/iamrohitshakya/iamrohitshakya.github.io', 'labels_url': 'https://api.github.com/repos/iamrohitshakya/iamrohitshakya.github.io/issues/13/labels{/name}', 'comments_url': 'https://api.github.com/repos/iamrohitshakya/iamrohitshakya.github.io/issues/13/comments', 'events_url': 'https://api.github.com/repos/iamrohitshakya/iamrohitshakya.github.io/issues/13/events', 'html_url': 'https://github.com/iamrohitshakya/iamrohitshakya.github.io/issues/13', 'id': 814332423, 'node_id': 'MDU6SXNzdWU4MTQzMzI0MjM=', 'number': 13, 'title': 'implement something new', 'user': {'login': 'rohit-cs18b029', 'id': 54976520, 'node_id': 'MDQ6VXNlcjU0OTc2NTIw', 'avatar_url': 'https://avatars.githubusercontent.com/u/54976520?v=4', 'gravatar_id': '', 'url': 'https://api.github.com/users/rohit-cs18b029', 'html_url': 'https://github.com/rohit-cs18b029', 'followers_url': 'https://api.github.com/users/rohit-cs18b029/followers', 'following_url': 'https://api.github.com/users/rohit-cs18b029/following{/other_user}', 'gists_url': 'https://api.github.com/users/rohit-cs18b029/gists{/gist_id}', 'starred_url': 'https://api.github.com/users/rohit-cs18b029/starred{/owner}{/repo}', 'subscriptions_url': 'https://api.github.com/users/rohit-cs18b029/subscriptions', 'organizations_url': 'https://api.github.com/users/rohit-cs18b029/orgs', 'repos_url': 'https://api.github.com/users/rohit-cs18b029/repos', 'events_url': 'https://api.github.com/users/rohit-cs18b029/events{/privacy}', 'received_events_url': 'https://api.github.com/users/rohit-cs18b029/received_events', 'type': 'User', 'site_admin': False}, 'labels': [], 'state': 'open', 'locked': False, 'assignee': None, 'assignees': [], 'milestone': None, 'comments': 0, 'created_at': '2021-02-23T10:33:54Z', 'updated_at': '2021-02-23T10:33:54Z', 'closed_at': None, 'author_association': 'COLLABORATOR', 'active_lock_reason': None, 'body': '', 'performed_via_github_app': None}, {'url': 'https://api.github.com/repos/iamrohitshakya/iamrohitshakya.github.io/issues/12', 'repository_url': 'https://api.github.com/repos/iamrohitshakya/iamrohitshakya.github.io', 'labels_url': 'https://api.github.com/repos/iamrohitshakya/iamrohitshakya.github.io/issues/12/labels{/name}', 'comments_url': 'https://api.github.com/repos/iamrohitshakya/iamrohitshakya.github.io/issues/12/comments', 'events_url': 'https://api.github.com/repos/iamrohitshakya/iamrohitshakya.github.io/issues/12/events', 'html_url': 'https://github.com/iamrohitshakya/iamrohitshakya.github.io/issues/12', 'id': 814331967, 'node_id': 'MDU6SXNzdWU4MTQzMzE5Njc=', 'number': 12, 'title': 'add some more functionalities in your website', 'user': {'login': 'rohit-cs18b029', 'id': 54976520, 'node_id': 'MDQ6VXNlcjU0OTc2NTIw', 'avatar_url': 'https://avatars.githubusercontent.com/u/54976520?v=4', 'gravatar_id': '', 'url': 'https://api.github.com/users/rohit-cs18b029', 'html_url': 'https://github.com/rohit-cs18b029', 'followers_url': 'https://api.github.com/users/rohit-cs18b029/followers', 'following_url': 'https://api.github.com/users/rohit-cs18b029/following{/other_user}', 'gists_url': 'https://api.github.com/users/rohit-cs18b029/gists{/gist_id}', 'starred_url': 'https://api.github.com/users/rohit-cs18b029/starred{/owner}{/repo}', 'subscriptions_url': 'https://api.github.com/users/rohit-cs18b029/subscriptions', 'organizations_url': 'https://api.github.com/users/rohit-cs18b029/orgs', 'repos_url': 'https://api.github.com/users/rohit-cs18b029/repos', 'events_url': 'https://api.github.com/users/rohit-cs18b029/events{/privacy}', 'received_events_url': 'https://api.github.com/users/rohit-cs18b029/received_events', 'type': 'User', 'site_admin': False}, 'labels': [], 'state': 'open', 'locked': False, 'assignee': None, 'assignees': [], 'milestone': None, 'comments': 0, 'created_at': '2021-02-23T10:33:21Z', 'updated_at': '2021-02-23T10:33:21Z', 'closed_at': None, 'author_association': 'COLLABORATOR', 'active_lock_reason': None, 'body': '', 'performed_via_github_app': None}, {'url': 'https://api.github.com/repos/iamrohitshakya/iamrohitshakya.github.io/issues/11', 'repository_url': 'https://api.github.com/repos/iamrohitshakya/iamrohitshakya.github.io', 'labels_url': 'https://api.github.com/repos/iamrohitshakya/iamrohitshakya.github.io/issues/11/labels{/name}', 'comments_url': 'https://api.github.com/repos/iamrohitshakya/iamrohitshakya.github.io/issues/11/comments', 'events_url': 'https://api.github.com/repos/iamrohitshakya/iamrohitshakya.github.io/issues/11/events', 'html_url': 'https://github.com/iamrohitshakya/iamrohitshakya.github.io/issues/11', 'id': 813600849, 'node_id': 'MDU6SXNzdWU4MTM2MDA4NDk=', 'number': 11, 'title': 'this issue is labeled as empty', 'user': {'login': 'rohit-cs18b029', 'id': 54976520, 'node_id': 'MDQ6VXNlcjU0OTc2NTIw', 'avatar_url': 'https://avatars.githubusercontent.com/u/54976520?v=4', 'gravatar_id': '', 'url': 'https://api.github.com/users/rohit-cs18b029', 'html_url': 'https://github.com/rohit-cs18b029', 'followers_url': 'https://api.github.com/users/rohit-cs18b029/followers', 'following_url': 'https://api.github.com/users/rohit-cs18b029/following{/other_user}', 'gists_url': 'https://api.github.com/users/rohit-cs18b029/gists{/gist_id}', 'starred_url': 'https://api.github.com/users/rohit-cs18b029/starred{/owner}{/repo}', 'subscriptions_url': 'https://api.github.com/users/rohit-cs18b029/subscriptions', 'organizations_url': 'https://api.github.com/users/rohit-cs18b029/orgs', 'repos_url': 'https://api.github.com/users/rohit-cs18b029/repos', 'events_url': 'https://api.github.com/users/rohit-cs18b029/events{/privacy}', 'received_events_url': 'https://api.github.com/users/rohit-cs18b029/received_events', 'type': 'User', 'site_admin': False}, 'labels': [{'id': 2762909915, 'node_id': 'MDU6TGFiZWwyNzYyOTA5OTE1', 'url': 'https://api.github.com/repos/iamrohitshakya/iamrohitshakya.github.io/labels/empty', 'name': 'empty', 'color': '0052cc', 'default': False, 'description': 'no work just enjoy'}], 'state': 'open', 'locked': False, 'assignee': None, 'assignees': [], 'milestone': None, 'comments': 0, 'created_at': '2021-02-22T15:23:43Z', 'updated_at': '2021-02-22T15:23:43Z', 'closed_at': None, 'author_association': 'COLLABORATOR', 'active_lock_reason': None, 'body': 'just for normal conversation', 'performed_via_github_app': None}, {'url': 'https://api.github.com/repos/iamrohitshakya/iamrohitshakya.github.io/issues/10', 'repository_url': 'https://api.github.com/repos/iamrohitshakya/iamrohitshakya.github.io', 'labels_url': 'https://api.github.com/repos/iamrohitshakya/iamrohitshakya.github.io/issues/10/labels{/name}', 'comments_url': 'https://api.github.com/repos/iamrohitshakya/iamrohitshakya.github.io/issues/10/comments', 'events_url': 'https://api.github.com/repos/iamrohitshakya/iamrohitshakya.github.io/issues/10/events', 'html_url': 'https://github.com/iamrohitshakya/iamrohitshakya.github.io/issues/10', 'id': 813560889, 'node_id': 'MDU6SXNzdWU4MTM1NjA4ODk=', 'number': 10, 'title': 'this issue is labeled as good first issue', 'user': {'login': 'rohit-cs18b029', 'id': 54976520, 'node_id': 'MDQ6VXNlcjU0OTc2NTIw', 'avatar_url': 'https://avatars.githubusercontent.com/u/54976520?v=4', 'gravatar_id': '', 'url': 'https://api.github.com/users/rohit-cs18b029', 'html_url': 'https://github.com/rohit-cs18b029', 'followers_url': 'https://api.github.com/users/rohit-cs18b029/followers', 'following_url': 'https://api.github.com/users/rohit-cs18b029/following{/other_user}', 'gists_url': 'https://api.github.com/users/rohit-cs18b029/gists{/gist_id}', 'starred_url': 'https://api.github.com/users/rohit-cs18b029/starred{/owner}{/repo}', 'subscriptions_url': 'https://api.github.com/users/rohit-cs18b029/subscriptions', 'organizations_url': 'https://api.github.com/users/rohit-cs18b029/orgs', 'repos_url': 'https://api.github.com/users/rohit-cs18b029/repos', 'events_url': 'https://api.github.com/users/rohit-cs18b029/events{/privacy}', 'received_events_url': 'https://api.github.com/users/rohit-cs18b029/received_events', 'type': 'User', 'site_admin': False}, 'labels': [{'id': 2666986526, 'node_id': 'MDU6TGFiZWwyNjY2OTg2NTI2', 'url': 'https://api.github.com/repos/iamrohitshakya/iamrohitshakya.github.io/labels/good%20first%20issue', 'name': 'good first issue', 'color': '7057ff', 'default': True, 'description': 'Good for newcomers'}], 'state': 'open', 'locked': False, 'assignee': None, 'assignees': [], 'milestone': None, 'comments': 0, 'created_at': '2021-02-22T14:39:13Z', 'updated_at': '2021-02-22T14:39:13Z', 'closed_at': None, 'author_association': 'COLLABORATOR', 'active_lock_reason': None, 'body': 'good for newcomers to fixed', 'performed_via_github_app': None}, {'url': 'https://api.github.com/repos/iamrohitshakya/iamrohitshakya.github.io/issues/9', 'repository_url': 'https://api.github.com/repos/iamrohitshakya/iamrohitshakya.github.io', 'labels_url': 'https://api.github.com/repos/iamrohitshakya/iamrohitshakya.github.io/issues/9/labels{/name}', 'comments_url': 'https://api.github.com/repos/iamrohitshakya/iamrohitshakya.github.io/issues/9/comments', 'events_url': 'https://api.github.com/repos/iamrohitshakya/iamrohitshakya.github.io/issues/9/events', 'html_url': 'https://github.com/iamrohitshakya/iamrohitshakya.github.io/issues/9', 'id': 813559155, 'node_id': 'MDU6SXNzdWU4MTM1NTkxNTU=', 'number': 9, 'title': 'this issue is labeled as wont fix', 'user': {'login': 'rohit-cs18b029', 'id': 54976520, 'node_id': 'MDQ6VXNlcjU0OTc2NTIw', 'avatar_url': 'https://avatars.githubusercontent.com/u/54976520?v=4', 'gravatar_id': '', 'url': 'https://api.github.com/users/rohit-cs18b029', 'html_url': 'https://github.com/rohit-cs18b029', 'followers_url': 'https://api.github.com/users/rohit-cs18b029/followers', 'following_url': 'https://api.github.com/users/rohit-cs18b029/following{/other_user}', 'gists_url': 'https://api.github.com/users/rohit-cs18b029/gists{/gist_id}', 'starred_url': 'https://api.github.com/users/rohit-cs18b029/starred{/owner}{/repo}', 'subscriptions_url': 'https://api.github.com/users/rohit-cs18b029/subscriptions', 'organizations_url': 'https://api.github.com/users/rohit-cs18b029/orgs', 'repos_url': 'https://api.github.com/users/rohit-cs18b029/repos', 'events_url': 'https://api.github.com/users/rohit-cs18b029/events{/privacy}', 'received_events_url': 'https://api.github.com/users/rohit-cs18b029/received_events', 'type': 'User', 'site_admin': False}, 'labels': [{'id': 2666986532, 'node_id': 'MDU6TGFiZWwyNjY2OTg2NTMy', 'url': 'https://api.github.com/repos/iamrohitshakya/iamrohitshakya.github.io/labels/wontfix', 'name': 'wontfix', 'color': 'ffffff', 'default': True, 'description': 'This will not be worked on'}], 'state': 'open', 'locked': False, 'assignee': None, 'assignees': [], 'milestone': None, 'comments': 0, 'created_at': '2021-02-22T14:37:12Z', 'updated_at': '2021-02-22T14:37:12Z', 'closed_at': None, 'author_association': 'COLLABORATOR', 'active_lock_reason': None, 'body': 'no need to fix, it will not work', 'performed_via_github_app': None}, {'url': 'https://api.github.com/repos/iamrohitshakya/iamrohitshakya.github.io/issues/8', 'repository_url': 'https://api.github.com/repos/iamrohitshakya/iamrohitshakya.github.io', 'labels_url': 'https://api.github.com/repos/iamrohitshakya/iamrohitshakya.github.io/issues/8/labels{/name}', 'comments_url': 'https://api.github.com/repos/iamrohitshakya/iamrohitshakya.github.io/issues/8/comments', 'events_url': 'https://api.github.com/repos/iamrohitshakya/iamrohitshakya.github.io/issues/8/events', 'html_url': 'https://github.com/iamrohitshakya/iamrohitshakya.github.io/issues/8', 'id': 813557364, 'node_id': 'MDU6SXNzdWU4MTM1NTczNjQ=', 'number': 8, 'title': 'this issue is labeled as help needed', 'user': {'login': 'rohit-cs18b029', 'id': 54976520, 'node_id': 'MDQ6VXNlcjU0OTc2NTIw', 'avatar_url': 'https://avatars.githubusercontent.com/u/54976520?v=4', 'gravatar_id': '', 'url': 'https://api.github.com/users/rohit-cs18b029', 'html_url': 'https://github.com/rohit-cs18b029', 'followers_url': 'https://api.github.com/users/rohit-cs18b029/followers', 'following_url': 'https://api.github.com/users/rohit-cs18b029/following{/other_user}', 'gists_url': 'https://api.github.com/users/rohit-cs18b029/gists{/gist_id}', 'starred_url': 'https://api.github.com/users/rohit-cs18b029/starred{/owner}{/repo}', 'subscriptions_url': 'https://api.github.com/users/rohit-cs18b029/subscriptions', 'organizations_url': 'https://api.github.com/users/rohit-cs18b029/orgs', 'repos_url': 'https://api.github.com/users/rohit-cs18b029/repos', 'events_url': 'https://api.github.com/users/rohit-cs18b029/events{/privacy}', 'received_events_url': 'https://api.github.com/users/rohit-cs18b029/received_events', 'type': 'User', 'site_admin': False}, 'labels': [{'id': 2666986524, 'node_id': 'MDU6TGFiZWwyNjY2OTg2NTI0', 'url': 'https://api.github.com/repos/iamrohitshakya/iamrohitshakya.github.io/labels/help%20wanted', 'name': 'help wanted', 'color': '008672', 'default': True, 'description': 'Extra attention is needed'}], 'state': 'open', 'locked': False, 'assignee': None, 'assignees': [], 'milestone': None, 'comments': 0, 'created_at': '2021-02-22T14:35:05Z', 'updated_at': '2021-02-22T14:35:05Z', 'closed_at': None, 'author_association': 'COLLABORATOR', 'active_lock_reason': None, 'body': 'extra attension is needed', 'performed_via_github_app': None}, {'url': 'https://api.github.com/repos/iamrohitshakya/iamrohitshakya.github.io/issues/7', 'repository_url': 'https://api.github.com/repos/iamrohitshakya/iamrohitshakya.github.io', 'labels_url': 'https://api.github.com/repos/iamrohitshakya/iamrohitshakya.github.io/issues/7/labels{/name}', 'comments_url': 'https://api.github.com/repos/iamrohitshakya/iamrohitshakya.github.io/issues/7/comments', 'events_url': 'https://api.github.com/repos/iamrohitshakya/iamrohitshakya.github.io/issues/7/events', 'html_url': 'https://github.com/iamrohitshakya/iamrohitshakya.github.io/issues/7', 'id': 813555637, 'node_id': 'MDU6SXNzdWU4MTM1NTU2Mzc=', 'number': 7, 'title': 'this issue is labeled as question', 'user': {'login': 'rohit-cs18b029', 'id': 54976520, 'node_id': 'MDQ6VXNlcjU0OTc2NTIw', 'avatar_url': 'https://avatars.githubusercontent.com/u/54976520?v=4', 'gravatar_id': '', 'url': 'https://api.github.com/users/rohit-cs18b029', 'html_url': 'https://github.com/rohit-cs18b029', 'followers_url': 'https://api.github.com/users/rohit-cs18b029/followers', 'following_url': 'https://api.github.com/users/rohit-cs18b029/following{/other_user}', 'gists_url': 'https://api.github.com/users/rohit-cs18b029/gists{/gist_id}', 'starred_url': 'https://api.github.com/users/rohit-cs18b029/starred{/owner}{/repo}', 'subscriptions_url': 'https://api.github.com/users/rohit-cs18b029/subscriptions', 'organizations_url': 'https://api.github.com/users/rohit-cs18b029/orgs', 'repos_url': 'https://api.github.com/users/rohit-cs18b029/repos', 'events_url': 'https://api.github.com/users/rohit-cs18b029/events{/privacy}', 'received_events_url': 'https://api.github.com/users/rohit-cs18b029/received_events', 'type': 'User', 'site_admin': False}, 'labels': [{'id': 2666986530, 'node_id': 'MDU6TGFiZWwyNjY2OTg2NTMw', 'url': 'https://api.github.com/repos/iamrohitshakya/iamrohitshakya.github.io/labels/question', 'name': 'question', 'color': 'd876e3', 'default': True, 'description': 'Further information is requested'}], 'state': 'open', 'locked': False, 'assignee': None, 'assignees': [], 'milestone': None, 'comments': 0, 'created_at': '2021-02-22T14:33:00Z', 'updated_at': '2021-02-22T14:33:00Z', 'closed_at': None, 'author_association': 'COLLABORATOR', 'active_lock_reason': None, 'body': 'further information is requsted', 'performed_via_github_app': None}, {'url': 'https://api.github.com/repos/iamrohitshakya/iamrohitshakya.github.io/issues/6', 'repository_url': 'https://api.github.com/repos/iamrohitshakya/iamrohitshakya.github.io', 'labels_url': 'https://api.github.com/repos/iamrohitshakya/iamrohitshakya.github.io/issues/6/labels{/name}', 'comments_url': 'https://api.github.com/repos/iamrohitshakya/iamrohitshakya.github.io/issues/6/comments', 'events_url': 'https://api.github.com/repos/iamrohitshakya/iamrohitshakya.github.io/issues/6/events', 'html_url': 'https://github.com/iamrohitshakya/iamrohitshakya.github.io/issues/6', 'id': 813554511, 'node_id': 'MDU6SXNzdWU4MTM1NTQ1MTE=', 'number': 6, 'title': 'this issue is labels as duplicate', 'user': {'login': 'rohit-cs18b029', 'id': 54976520, 'node_id': 'MDQ6VXNlcjU0OTc2NTIw', 'avatar_url': 'https://avatars.githubusercontent.com/u/54976520?v=4', 'gravatar_id': '', 'url': 'https://api.github.com/users/rohit-cs18b029', 'html_url': 'https://github.com/rohit-cs18b029', 'followers_url': 'https://api.github.com/users/rohit-cs18b029/followers', 'following_url': 'https://api.github.com/users/rohit-cs18b029/following{/other_user}', 'gists_url': 'https://api.github.com/users/rohit-cs18b029/gists{/gist_id}', 'starred_url': 'https://api.github.com/users/rohit-cs18b029/starred{/owner}{/repo}', 'subscriptions_url': 'https://api.github.com/users/rohit-cs18b029/subscriptions', 'organizations_url': 'https://api.github.com/users/rohit-cs18b029/orgs', 'repos_url': 'https://api.github.com/users/rohit-cs18b029/repos', 'events_url': 'https://api.github.com/users/rohit-cs18b029/events{/privacy}', 'received_events_url': 'https://api.github.com/users/rohit-cs18b029/received_events', 'type': 'User', 'site_admin': False}, 'labels': [{'id': 2666986519, 'node_id': 'MDU6TGFiZWwyNjY2OTg2NTE5', 'url': 'https://api.github.com/repos/iamrohitshakya/iamrohitshakya.github.io/labels/duplicate', 'name': 'duplicate', 'color': 'cfd3d7', 'default': True, 'description': 'This issue or pull request already exists'}], 'state': 'open', 'locked': False, 'assignee': None, 'assignees': [], 'milestone': None, 'comments': 0, 'created_at': '2021-02-22T14:31:36Z', 'updated_at': '2021-02-22T14:31:36Z', 'closed_at': None, 'author_association': 'COLLABORATOR', 'active_lock_reason': None, 'body': 'this issue is already exist why you have made it', 'performed_via_github_app': None}, {'url': 'https://api.github.com/repos/iamrohitshakya/iamrohitshakya.github.io/issues/5', 'repository_url': 'https://api.github.com/repos/iamrohitshakya/iamrohitshakya.github.io', 'labels_url': 'https://api.github.com/repos/iamrohitshakya/iamrohitshakya.github.io/issues/5/labels{/name}', 'comments_url': 'https://api.github.com/repos/iamrohitshakya/iamrohitshakya.github.io/issues/5/comments', 'events_url': 'https://api.github.com/repos/iamrohitshakya/iamrohitshakya.github.io/issues/5/events', 'html_url': 'https://github.com/iamrohitshakya/iamrohitshakya.github.io/issues/5', 'id': 813551180, 'node_id': 'MDU6SXNzdWU4MTM1NTExODA=', 'number': 5, 'title': 'this issue is labeled as invalid', 'user': {'login': 'rohit-cs18b029', 'id': 54976520, 'node_id': 'MDQ6VXNlcjU0OTc2NTIw', 'avatar_url': 'https://avatars.githubusercontent.com/u/54976520?v=4', 'gravatar_id': '', 'url': 'https://api.github.com/users/rohit-cs18b029', 'html_url': 'https://github.com/rohit-cs18b029', 'followers_url': 'https://api.github.com/users/rohit-cs18b029/followers', 'following_url': 'https://api.github.com/users/rohit-cs18b029/following{/other_user}', 'gists_url': 'https://api.github.com/users/rohit-cs18b029/gists{/gist_id}', 'starred_url': 'https://api.github.com/users/rohit-cs18b029/starred{/owner}{/repo}', 'subscriptions_url': 'https://api.github.com/users/rohit-cs18b029/subscriptions', 'organizations_url': 'https://api.github.com/users/rohit-cs18b029/orgs', 'repos_url': 'https://api.github.com/users/rohit-cs18b029/repos', 'events_url': 'https://api.github.com/users/rohit-cs18b029/events{/privacy}', 'received_events_url': 'https://api.github.com/users/rohit-cs18b029/received_events', 'type': 'User', 'site_admin': False}, 'labels': [{'id': 2666986528, 'node_id': 'MDU6TGFiZWwyNjY2OTg2NTI4', 'url': 'https://api.github.com/repos/iamrohitshakya/iamrohitshakya.github.io/labels/invalid', 'name': 'invalid', 'color': 'e4e669', 'default': True, 'description': \"This doesn't seem right\"}], 'state': 'open', 'locked': False, 'assignee': None, 'assignees': [], 'milestone': None, 'comments': 0, 'created_at': '2021-02-22T14:27:34Z', 'updated_at': '2021-02-22T14:27:34Z', 'closed_at': None, 'author_association': 'COLLABORATOR', 'active_lock_reason': None, 'body': 'something is not right in your website', 'performed_via_github_app': None}, {'url': 'https://api.github.com/repos/iamrohitshakya/iamrohitshakya.github.io/issues/4', 'repository_url': 'https://api.github.com/repos/iamrohitshakya/iamrohitshakya.github.io', 'labels_url': 'https://api.github.com/repos/iamrohitshakya/iamrohitshakya.github.io/issues/4/labels{/name}', 'comments_url': 'https://api.github.com/repos/iamrohitshakya/iamrohitshakya.github.io/issues/4/comments', 'events_url': 'https://api.github.com/repos/iamrohitshakya/iamrohitshakya.github.io/issues/4/events', 'html_url': 'https://github.com/iamrohitshakya/iamrohitshakya.github.io/issues/4', 'id': 813550013, 'node_id': 'MDU6SXNzdWU4MTM1NTAwMTM=', 'number': 4, 'title': 'this issue is labeled as documentation', 'user': {'login': 'rohit-cs18b029', 'id': 54976520, 'node_id': 'MDQ6VXNlcjU0OTc2NTIw', 'avatar_url': 'https://avatars.githubusercontent.com/u/54976520?v=4', 'gravatar_id': '', 'url': 'https://api.github.com/users/rohit-cs18b029', 'html_url': 'https://github.com/rohit-cs18b029', 'followers_url': 'https://api.github.com/users/rohit-cs18b029/followers', 'following_url': 'https://api.github.com/users/rohit-cs18b029/following{/other_user}', 'gists_url': 'https://api.github.com/users/rohit-cs18b029/gists{/gist_id}', 'starred_url': 'https://api.github.com/users/rohit-cs18b029/starred{/owner}{/repo}', 'subscriptions_url': 'https://api.github.com/users/rohit-cs18b029/subscriptions', 'organizations_url': 'https://api.github.com/users/rohit-cs18b029/orgs', 'repos_url': 'https://api.github.com/users/rohit-cs18b029/repos', 'events_url': 'https://api.github.com/users/rohit-cs18b029/events{/privacy}', 'received_events_url': 'https://api.github.com/users/rohit-cs18b029/received_events', 'type': 'User', 'site_admin': False}, 'labels': [{'id': 2666986517, 'node_id': 'MDU6TGFiZWwyNjY2OTg2NTE3', 'url': 'https://api.github.com/repos/iamrohitshakya/iamrohitshakya.github.io/labels/documentation', 'name': 'documentation', 'color': '0075ca', 'default': True, 'description': 'Improvements or additions to documentation'}], 'state': 'open', 'locked': False, 'assignee': None, 'assignees': [], 'milestone': None, 'comments': 0, 'created_at': '2021-02-22T14:26:12Z', 'updated_at': '2021-02-22T14:26:12Z', 'closed_at': None, 'author_association': 'COLLABORATOR', 'active_lock_reason': None, 'body': 'improvements in documentation', 'performed_via_github_app': None}, {'url': 'https://api.github.com/repos/iamrohitshakya/iamrohitshakya.github.io/issues/3', 'repository_url': 'https://api.github.com/repos/iamrohitshakya/iamrohitshakya.github.io', 'labels_url': 'https://api.github.com/repos/iamrohitshakya/iamrohitshakya.github.io/issues/3/labels{/name}', 'comments_url': 'https://api.github.com/repos/iamrohitshakya/iamrohitshakya.github.io/issues/3/comments', 'events_url': 'https://api.github.com/repos/iamrohitshakya/iamrohitshakya.github.io/issues/3/events', 'html_url': 'https://github.com/iamrohitshakya/iamrohitshakya.github.io/issues/3', 'id': 813548493, 'node_id': 'MDU6SXNzdWU4MTM1NDg0OTM=', 'number': 3, 'title': 'this issue is type of enhancement', 'user': {'login': 'rohit-cs18b029', 'id': 54976520, 'node_id': 'MDQ6VXNlcjU0OTc2NTIw', 'avatar_url': 'https://avatars.githubusercontent.com/u/54976520?v=4', 'gravatar_id': '', 'url': 'https://api.github.com/users/rohit-cs18b029', 'html_url': 'https://github.com/rohit-cs18b029', 'followers_url': 'https://api.github.com/users/rohit-cs18b029/followers', 'following_url': 'https://api.github.com/users/rohit-cs18b029/following{/other_user}', 'gists_url': 'https://api.github.com/users/rohit-cs18b029/gists{/gist_id}', 'starred_url': 'https://api.github.com/users/rohit-cs18b029/starred{/owner}{/repo}', 'subscriptions_url': 'https://api.github.com/users/rohit-cs18b029/subscriptions', 'organizations_url': 'https://api.github.com/users/rohit-cs18b029/orgs', 'repos_url': 'https://api.github.com/users/rohit-cs18b029/repos', 'events_url': 'https://api.github.com/users/rohit-cs18b029/events{/privacy}', 'received_events_url': 'https://api.github.com/users/rohit-cs18b029/received_events', 'type': 'User', 'site_admin': False}, 'labels': [{'id': 2666986522, 'node_id': 'MDU6TGFiZWwyNjY2OTg2NTIy', 'url': 'https://api.github.com/repos/iamrohitshakya/iamrohitshakya.github.io/labels/enhancement', 'name': 'enhancement', 'color': 'a2eeef', 'default': True, 'description': 'New feature or request'}], 'state': 'open', 'locked': False, 'assignee': {'login': 'rohit-cs18b029', 'id': 54976520, 'node_id': 'MDQ6VXNlcjU0OTc2NTIw', 'avatar_url': 'https://avatars.githubusercontent.com/u/54976520?v=4', 'gravatar_id': '', 'url': 'https://api.github.com/users/rohit-cs18b029', 'html_url': 'https://github.com/rohit-cs18b029', 'followers_url': 'https://api.github.com/users/rohit-cs18b029/followers', 'following_url': 'https://api.github.com/users/rohit-cs18b029/following{/other_user}', 'gists_url': 'https://api.github.com/users/rohit-cs18b029/gists{/gist_id}', 'starred_url': 'https://api.github.com/users/rohit-cs18b029/starred{/owner}{/repo}', 'subscriptions_url': 'https://api.github.com/users/rohit-cs18b029/subscriptions', 'organizations_url': 'https://api.github.com/users/rohit-cs18b029/orgs', 'repos_url': 'https://api.github.com/users/rohit-cs18b029/repos', 'events_url': 'https://api.github.com/users/rohit-cs18b029/events{/privacy}', 'received_events_url': 'https://api.github.com/users/rohit-cs18b029/received_events', 'type': 'User', 'site_admin': False}, 'assignees': [{'login': 'rohit-cs18b029', 'id': 54976520, 'node_id': 'MDQ6VXNlcjU0OTc2NTIw', 'avatar_url': 'https://avatars.githubusercontent.com/u/54976520?v=4', 'gravatar_id': '', 'url': 'https://api.github.com/users/rohit-cs18b029', 'html_url': 'https://github.com/rohit-cs18b029', 'followers_url': 'https://api.github.com/users/rohit-cs18b029/followers', 'following_url': 'https://api.github.com/users/rohit-cs18b029/following{/other_user}', 'gists_url': 'https://api.github.com/users/rohit-cs18b029/gists{/gist_id}', 'starred_url': 'https://api.github.com/users/rohit-cs18b029/starred{/owner}{/repo}', 'subscriptions_url': 'https://api.github.com/users/rohit-cs18b029/subscriptions', 'organizations_url': 'https://api.github.com/users/rohit-cs18b029/orgs', 'repos_url': 'https://api.github.com/users/rohit-cs18b029/repos', 'events_url': 'https://api.github.com/users/rohit-cs18b029/events{/privacy}', 'received_events_url': 'https://api.github.com/users/rohit-cs18b029/received_events', 'type': 'User', 'site_admin': False}], 'milestone': None, 'comments': 0, 'created_at': '2021-02-22T14:24:28Z', 'updated_at': '2021-02-22T14:24:28Z', 'closed_at': None, 'author_association': 'COLLABORATOR', 'active_lock_reason': None, 'body': '', 'performed_via_github_app': None}, {'url': 'https://api.github.com/repos/iamrohitshakya/iamrohitshakya.github.io/issues/2', 'repository_url': 'https://api.github.com/repos/iamrohitshakya/iamrohitshakya.github.io', 'labels_url': 'https://api.github.com/repos/iamrohitshakya/iamrohitshakya.github.io/issues/2/labels{/name}', 'comments_url': 'https://api.github.com/repos/iamrohitshakya/iamrohitshakya.github.io/issues/2/comments', 'events_url': 'https://api.github.com/repos/iamrohitshakya/iamrohitshakya.github.io/issues/2/events', 'html_url': 'https://github.com/iamrohitshakya/iamrohitshakya.github.io/issues/2', 'id': 813547776, 'node_id': 'MDU6SXNzdWU4MTM1NDc3NzY=', 'number': 2, 'title': 'this is bug issue', 'user': {'login': 'rohit-cs18b029', 'id': 54976520, 'node_id': 'MDQ6VXNlcjU0OTc2NTIw', 'avatar_url': 'https://avatars.githubusercontent.com/u/54976520?v=4', 'gravatar_id': '', 'url': 'https://api.github.com/users/rohit-cs18b029', 'html_url': 'https://github.com/rohit-cs18b029', 'followers_url': 'https://api.github.com/users/rohit-cs18b029/followers', 'following_url': 'https://api.github.com/users/rohit-cs18b029/following{/other_user}', 'gists_url': 'https://api.github.com/users/rohit-cs18b029/gists{/gist_id}', 'starred_url': 'https://api.github.com/users/rohit-cs18b029/starred{/owner}{/repo}', 'subscriptions_url': 'https://api.github.com/users/rohit-cs18b029/subscriptions', 'organizations_url': 'https://api.github.com/users/rohit-cs18b029/orgs', 'repos_url': 'https://api.github.com/users/rohit-cs18b029/repos', 'events_url': 'https://api.github.com/users/rohit-cs18b029/events{/privacy}', 'received_events_url': 'https://api.github.com/users/rohit-cs18b029/received_events', 'type': 'User', 'site_admin': False}, 'labels': [{'id': 2666986514, 'node_id': 'MDU6TGFiZWwyNjY2OTg2NTE0', 'url': 'https://api.github.com/repos/iamrohitshakya/iamrohitshakya.github.io/labels/bug', 'name': 'bug', 'color': 'd73a4a', 'default': True, 'description': \"Something isn't working\"}], 'state': 'open', 'locked': False, 'assignee': {'login': 'rohit-cs18b029', 'id': 54976520, 'node_id': 'MDQ6VXNlcjU0OTc2NTIw', 'avatar_url': 'https://avatars.githubusercontent.com/u/54976520?v=4', 'gravatar_id': '', 'url': 'https://api.github.com/users/rohit-cs18b029', 'html_url': 'https://github.com/rohit-cs18b029', 'followers_url': 'https://api.github.com/users/rohit-cs18b029/followers', 'following_url': 'https://api.github.com/users/rohit-cs18b029/following{/other_user}', 'gists_url': 'https://api.github.com/users/rohit-cs18b029/gists{/gist_id}', 'starred_url': 'https://api.github.com/users/rohit-cs18b029/starred{/owner}{/repo}', 'subscriptions_url': 'https://api.github.com/users/rohit-cs18b029/subscriptions', 'organizations_url': 'https://api.github.com/users/rohit-cs18b029/orgs', 'repos_url': 'https://api.github.com/users/rohit-cs18b029/repos', 'events_url': 'https://api.github.com/users/rohit-cs18b029/events{/privacy}', 'received_events_url': 'https://api.github.com/users/rohit-cs18b029/received_events', 'type': 'User', 'site_admin': False}, 'assignees': [{'login': 'rohit-cs18b029', 'id': 54976520, 'node_id': 'MDQ6VXNlcjU0OTc2NTIw', 'avatar_url': 'https://avatars.githubusercontent.com/u/54976520?v=4', 'gravatar_id': '', 'url': 'https://api.github.com/users/rohit-cs18b029', 'html_url': 'https://github.com/rohit-cs18b029', 'followers_url': 'https://api.github.com/users/rohit-cs18b029/followers', 'following_url': 'https://api.github.com/users/rohit-cs18b029/following{/other_user}', 'gists_url': 'https://api.github.com/users/rohit-cs18b029/gists{/gist_id}', 'starred_url': 'https://api.github.com/users/rohit-cs18b029/starred{/owner}{/repo}', 'subscriptions_url': 'https://api.github.com/users/rohit-cs18b029/subscriptions', 'organizations_url': 'https://api.github.com/users/rohit-cs18b029/orgs', 'repos_url': 'https://api.github.com/users/rohit-cs18b029/repos', 'events_url': 'https://api.github.com/users/rohit-cs18b029/events{/privacy}', 'received_events_url': 'https://api.github.com/users/rohit-cs18b029/received_events', 'type': 'User', 'site_admin': False}], 'milestone': None, 'comments': 0, 'created_at': '2021-02-22T14:23:39Z', 'updated_at': '2021-02-22T14:23:39Z', 'closed_at': None, 'author_association': 'COLLABORATOR', 'active_lock_reason': None, 'body': 'no tension', 'performed_via_github_app': None}]\n"
     ]
    }
   ],
   "source": [
    "print(issues_list)"
   ]
  },
  {
   "cell_type": "code",
   "execution_count": 28,
   "metadata": {},
   "outputs": [
    {
     "name": "stdout",
     "output_type": "stream",
     "text": [
      "16\n"
     ]
    }
   ],
   "source": [
    "print(len(issues_list))"
   ]
  },
  {
   "cell_type": "code",
   "execution_count": 29,
   "metadata": {},
   "outputs": [],
   "source": [
    "first_issue=issues_list[0]"
   ]
  },
  {
   "cell_type": "code",
   "execution_count": 29,
   "metadata": {},
   "outputs": [
    {
     "name": "stdout",
     "output_type": "stream",
     "text": [
      "{'url': 'https://api.github.com/repos/tensorflow/tensorflow/issues/47310', 'repository_url': 'https://api.github.com/repos/tensorflow/tensorflow', 'labels_url': 'https://api.github.com/repos/tensorflow/tensorflow/issues/47310/labels{/name}', 'comments_url': 'https://api.github.com/repos/tensorflow/tensorflow/issues/47310/comments', 'events_url': 'https://api.github.com/repos/tensorflow/tensorflow/issues/47310/events', 'html_url': 'https://github.com/tensorflow/tensorflow/pull/47310', 'id': 813433053, 'node_id': 'MDExOlB1bGxSZXF1ZXN0NTc3NTgyMTE0', 'number': 47310, 'title': 'Update train.py', 'user': {'login': 'amahendrakar', 'id': 57165142, 'node_id': 'MDQ6VXNlcjU3MTY1MTQy', 'avatar_url': 'https://avatars.githubusercontent.com/u/57165142?v=4', 'gravatar_id': '', 'url': 'https://api.github.com/users/amahendrakar', 'html_url': 'https://github.com/amahendrakar', 'followers_url': 'https://api.github.com/users/amahendrakar/followers', 'following_url': 'https://api.github.com/users/amahendrakar/following{/other_user}', 'gists_url': 'https://api.github.com/users/amahendrakar/gists{/gist_id}', 'starred_url': 'https://api.github.com/users/amahendrakar/starred{/owner}{/repo}', 'subscriptions_url': 'https://api.github.com/users/amahendrakar/subscriptions', 'organizations_url': 'https://api.github.com/users/amahendrakar/orgs', 'repos_url': 'https://api.github.com/users/amahendrakar/repos', 'events_url': 'https://api.github.com/users/amahendrakar/events{/privacy}', 'received_events_url': 'https://api.github.com/users/amahendrakar/received_events', 'type': 'User', 'site_admin': False}, 'labels': [{'id': 300136587, 'node_id': 'MDU6TGFiZWwzMDAxMzY1ODc=', 'url': 'https://api.github.com/repos/tensorflow/tensorflow/labels/cla:%20yes', 'name': 'cla: yes', 'color': '009800', 'default': False, 'description': None}, {'id': 1169364259, 'node_id': 'MDU6TGFiZWwxMTY5MzY0MjU5', 'url': 'https://api.github.com/repos/tensorflow/tensorflow/labels/size:XS', 'name': 'size:XS', 'color': 'adafea', 'default': False, 'description': 'CL Change Size: Extra Small'}, {'id': 284443156, 'node_id': 'MDU6TGFiZWwyODQ0NDMxNTY=', 'url': 'https://api.github.com/repos/tensorflow/tensorflow/labels/type:docs-bug', 'name': 'type:docs-bug', 'color': '159b2e', 'default': False, 'description': 'Document issues'}], 'state': 'open', 'locked': False, 'assignee': {'login': 'gbaned', 'id': 48215717, 'node_id': 'MDQ6VXNlcjQ4MjE1NzE3', 'avatar_url': 'https://avatars.githubusercontent.com/u/48215717?v=4', 'gravatar_id': '', 'url': 'https://api.github.com/users/gbaned', 'html_url': 'https://github.com/gbaned', 'followers_url': 'https://api.github.com/users/gbaned/followers', 'following_url': 'https://api.github.com/users/gbaned/following{/other_user}', 'gists_url': 'https://api.github.com/users/gbaned/gists{/gist_id}', 'starred_url': 'https://api.github.com/users/gbaned/starred{/owner}{/repo}', 'subscriptions_url': 'https://api.github.com/users/gbaned/subscriptions', 'organizations_url': 'https://api.github.com/users/gbaned/orgs', 'repos_url': 'https://api.github.com/users/gbaned/repos', 'events_url': 'https://api.github.com/users/gbaned/events{/privacy}', 'received_events_url': 'https://api.github.com/users/gbaned/received_events', 'type': 'User', 'site_admin': False}, 'assignees': [{'login': 'gbaned', 'id': 48215717, 'node_id': 'MDQ6VXNlcjQ4MjE1NzE3', 'avatar_url': 'https://avatars.githubusercontent.com/u/48215717?v=4', 'gravatar_id': '', 'url': 'https://api.github.com/users/gbaned', 'html_url': 'https://github.com/gbaned', 'followers_url': 'https://api.github.com/users/gbaned/followers', 'following_url': 'https://api.github.com/users/gbaned/following{/other_user}', 'gists_url': 'https://api.github.com/users/gbaned/gists{/gist_id}', 'starred_url': 'https://api.github.com/users/gbaned/starred{/owner}{/repo}', 'subscriptions_url': 'https://api.github.com/users/gbaned/subscriptions', 'organizations_url': 'https://api.github.com/users/gbaned/orgs', 'repos_url': 'https://api.github.com/users/gbaned/repos', 'events_url': 'https://api.github.com/users/gbaned/events{/privacy}', 'received_events_url': 'https://api.github.com/users/gbaned/received_events', 'type': 'User', 'site_admin': False}], 'milestone': None, 'comments': 0, 'created_at': '2021-02-22T11:55:52Z', 'updated_at': '2021-02-22T12:05:46Z', 'closed_at': None, 'author_association': 'CONTRIBUTOR', 'active_lock_reason': None, 'pull_request': {'url': 'https://api.github.com/repos/tensorflow/tensorflow/pulls/47310', 'html_url': 'https://github.com/tensorflow/tensorflow/pull/47310', 'diff_url': 'https://github.com/tensorflow/tensorflow/pull/47310.diff', 'patch_url': 'https://github.com/tensorflow/tensorflow/pull/47310.patch'}, 'body': 'Updated audio recognition tutorial link.\\r\\n\\r\\nFixes issue [#47305](https://github.com/tensorflow/tensorflow/issues/47305)', 'performed_via_github_app': None}\n"
     ]
    }
   ],
   "source": [
    "print(first_issue)"
   ]
  },
  {
   "cell_type": "code",
   "execution_count": 30,
   "metadata": {},
   "outputs": [
    {
     "name": "stdout",
     "output_type": "stream",
     "text": [
      "kuch bhi\n"
     ]
    }
   ],
   "source": [
    "print(first_issue[\"title\"])"
   ]
  },
  {
   "cell_type": "code",
   "execution_count": 31,
   "metadata": {},
   "outputs": [
    {
     "name": "stdout",
     "output_type": "stream",
     "text": [
      "[{'id': 2666986514, 'node_id': 'MDU6TGFiZWwyNjY2OTg2NTE0', 'url': 'https://api.github.com/repos/iamrohitshakya/iamrohitshakya.github.io/labels/bug', 'name': 'bug', 'color': 'd73a4a', 'default': True, 'description': \"Something isn't working\"}]\n"
     ]
    }
   ],
   "source": [
    "print(first_issue[\"labels\"])"
   ]
  },
  {
   "cell_type": "code",
   "execution_count": 35,
   "metadata": {},
   "outputs": [
    {
     "name": "stdout",
     "output_type": "stream",
     "text": [
      "[{'id': 2666986514, 'node_id': 'MDU6TGFiZWwyNjY2OTg2NTE0', 'url': 'https://api.github.com/repos/iamrohitshakya/iamrohitshakya.github.io/labels/bug', 'name': 'bug', 'color': 'd73a4a', 'default': True, 'description': \"Something isn't working\"}]\n"
     ]
    }
   ],
   "source": [
    "labels = first_issue[\"labels\"]\n",
    "print(labels)"
   ]
  },
  {
   "cell_type": "code",
   "execution_count": 36,
   "metadata": {},
   "outputs": [
    {
     "name": "stdout",
     "output_type": "stream",
     "text": [
      "bug\n"
     ]
    }
   ],
   "source": [
    "for i in range(len(labels)):\n",
    "    label=labels[i]\n",
    "    label_name=label[\"name\"]\n",
    "    print(label_name)"
   ]
  },
  {
   "cell_type": "code",
   "execution_count": 37,
   "metadata": {},
   "outputs": [
    {
     "name": "stdout",
     "output_type": "stream",
     "text": [
      "kuch bhi\n",
      "server problem\n",
      "authentication error\n",
      "need to fix login system\n",
      "implement something new\n",
      "add some more functionalities in your website\n",
      "this issue is labeled as empty\n",
      "this issue is labeled as good first issue\n",
      "this issue is labeled as wont fix\n",
      "this issue is labeled as help needed\n",
      "this issue is labeled as question\n",
      "this issue is labels as duplicate\n",
      "this issue is labeled as invalid\n",
      "this issue is labeled as documentation\n",
      "this issue is type of enhancement\n",
      "this is bug issue\n"
     ]
    }
   ],
   "source": [
    "for i in range(len(issues_list)):\n",
    "    issue=issues_list[i]\n",
    "    issue_title=issue[\"title\"]\n",
    "    print(issue_title)"
   ]
  },
  {
   "cell_type": "code",
   "execution_count": 41,
   "metadata": {},
   "outputs": [
    {
     "name": "stdout",
     "output_type": "stream",
     "text": [
      "\n",
      "\n",
      "issue title -  kuch bhi\n",
      "issue body -  \n",
      "issue labels - \n",
      "bug\n",
      "\n",
      "\n",
      "issue title -  server problem\n",
      "issue body -  \n",
      "issue labels - \n",
      "\n",
      "\n",
      "issue title -  authentication error\n",
      "issue body -  \n",
      "issue labels - \n",
      "\n",
      "\n",
      "issue title -  need to fix login system\n",
      "issue body -  \n",
      "issue labels - \n",
      "\n",
      "\n",
      "issue title -  implement something new\n",
      "issue body -  \n",
      "issue labels - \n",
      "\n",
      "\n",
      "issue title -  add some more functionalities in your website\n",
      "issue body -  \n",
      "issue labels - \n",
      "\n",
      "\n",
      "issue title -  this issue is labeled as empty\n",
      "issue body -  just for normal conversation\n",
      "issue labels - \n",
      "empty\n",
      "\n",
      "\n",
      "issue title -  this issue is labeled as good first issue\n",
      "issue body -  good for newcomers to fixed\n",
      "issue labels - \n",
      "good first issue\n",
      "\n",
      "\n",
      "issue title -  this issue is labeled as wont fix\n",
      "issue body -  no need to fix, it will not work\n",
      "issue labels - \n",
      "wontfix\n",
      "\n",
      "\n",
      "issue title -  this issue is labeled as help needed\n",
      "issue body -  extra attension is needed\n",
      "issue labels - \n",
      "help wanted\n",
      "\n",
      "\n",
      "issue title -  this issue is labeled as question\n",
      "issue body -  further information is requsted\n",
      "issue labels - \n",
      "question\n",
      "\n",
      "\n",
      "issue title -  this issue is labels as duplicate\n",
      "issue body -  this issue is already exist why you have made it\n",
      "issue labels - \n",
      "duplicate\n",
      "\n",
      "\n",
      "issue title -  this issue is labeled as invalid\n",
      "issue body -  something is not right in your website\n",
      "issue labels - \n",
      "invalid\n",
      "\n",
      "\n",
      "issue title -  this issue is labeled as documentation\n",
      "issue body -  improvements in documentation\n",
      "issue labels - \n",
      "documentation\n",
      "\n",
      "\n",
      "issue title -  this issue is type of enhancement\n",
      "issue body -  \n",
      "issue labels - \n",
      "enhancement\n",
      "\n",
      "\n",
      "issue title -  this is bug issue\n",
      "issue body -  no tension\n",
      "issue labels - \n",
      "bug\n"
     ]
    }
   ],
   "source": [
    "for i in range(len(issues_list)):\n",
    "    issue=issues_list[i]\n",
    "    issue_title=issue[\"title\"]\n",
    "    issue_body=issue[\"body\"]\n",
    "    print(\"\\n\\nissue title - \",issue_title)\n",
    "    print(\"issue body - \",issue_body)\n",
    "    print(\"issue labels - \")\n",
    "    issue_labels_list = issue[\"labels\"]\n",
    "    for j in range(len(issue_labels_list)):\n",
    "        label=issue_labels_list[j]\n",
    "        label_name=label[\"name\"]\n",
    "        print(label_name)"
   ]
  },
  {
   "cell_type": "code",
   "execution_count": 42,
   "metadata": {},
   "outputs": [],
   "source": [
    "data=[]\n",
    "labels_list=[]\n",
    "for i in range(len(issues_list)):\n",
    "    single_data=[]\n",
    "    issue=issues_list[i]\n",
    "    issue_title=issue[\"title\"]\n",
    "    issue_body=issue[\"body\"]\n",
    "    \n",
    "    single_data=single_data+[issue_title,issue_body];\n",
    "    \n",
    "    data=data+[single_data];\n",
    "    \n",
    "    issue_labels_list = issue[\"labels\"]\n",
    "    single_label_list=[]\n",
    "    for j in range(len(issue_labels_list)):\n",
    "        label=issue_labels_list[j]\n",
    "        label_name=label[\"name\"]\n",
    "        single_label_list=single_label_list+[label_name]\n",
    "    labels_list=labels_list+[single_label_list]"
   ]
  },
  {
   "cell_type": "code",
   "execution_count": 40,
   "metadata": {},
   "outputs": [
    {
     "name": "stdout",
     "output_type": "stream",
     "text": [
      "16 16\n"
     ]
    }
   ],
   "source": [
    "print(len(data),len(labels_list))"
   ]
  },
  {
   "cell_type": "code",
   "execution_count": 43,
   "metadata": {},
   "outputs": [
    {
     "name": "stdout",
     "output_type": "stream",
     "text": [
      "['bug']\n",
      "[]\n",
      "[]\n",
      "[]\n",
      "[]\n",
      "[]\n",
      "['empty']\n",
      "['good first issue']\n",
      "['wontfix']\n",
      "['help wanted']\n",
      "['question']\n",
      "['duplicate']\n",
      "['invalid']\n",
      "['documentation']\n",
      "['enhancement']\n",
      "['bug']\n"
     ]
    }
   ],
   "source": [
    "for i in range(len(labels_list)):\n",
    "    print(labels_list[i])"
   ]
  },
  {
   "cell_type": "code",
   "execution_count": 44,
   "metadata": {},
   "outputs": [
    {
     "name": "stdout",
     "output_type": "stream",
     "text": [
      "kuch bhi\n",
      "\n",
      "server problem\n",
      "\n",
      "authentication error\n",
      "\n",
      "need to fix login system\n",
      "\n",
      "implement something new\n",
      "\n",
      "add some more functionalities in your website\n",
      "\n",
      "this issue is labeled as empty\n",
      "\n",
      "this issue is labeled as good first issue\n",
      "\n",
      "this issue is labeled as wont fix\n",
      "\n",
      "this issue is labeled as help needed\n",
      "\n",
      "this issue is labeled as question\n",
      "\n",
      "this issue is labels as duplicate\n",
      "\n",
      "this issue is labeled as invalid\n",
      "\n",
      "this issue is labeled as documentation\n",
      "\n",
      "this issue is type of enhancement\n",
      "\n",
      "this is bug issue\n",
      "\n"
     ]
    }
   ],
   "source": [
    "for i in range(len(data)):\n",
    "    print(data[i][0])\n",
    "    print()"
   ]
  },
  {
   "cell_type": "code",
   "execution_count": null,
   "metadata": {},
   "outputs": [],
   "source": []
  }
 ],
 "metadata": {
  "kernelspec": {
   "display_name": "Python 3",
   "language": "python",
   "name": "python3"
  },
  "language_info": {
   "codemirror_mode": {
    "name": "ipython",
    "version": 3
   },
   "file_extension": ".py",
   "mimetype": "text/x-python",
   "name": "python",
   "nbconvert_exporter": "python",
   "pygments_lexer": "ipython3",
   "version": "3.8.5"
  }
 },
 "nbformat": 4,
 "nbformat_minor": 4
}
