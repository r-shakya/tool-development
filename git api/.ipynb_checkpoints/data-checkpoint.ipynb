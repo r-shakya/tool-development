{
 "cells": [
  {
   "cell_type": "code",
   "execution_count": 9,
   "metadata": {},
   "outputs": [],
   "source": [
    "import requests"
   ]
  },
  {
   "cell_type": "code",
   "execution_count": 11,
   "metadata": {},
   "outputs": [
    {
     "ename": "TypeError",
     "evalue": "can only concatenate list (not \"dict\") to list",
     "output_type": "error",
     "traceback": [
      "\u001b[1;31m---------------------------------------------------------------------------\u001b[0m",
      "\u001b[1;31mTypeError\u001b[0m                                 Traceback (most recent call last)",
      "\u001b[1;32m<ipython-input-11-3f58c237f270>\u001b[0m in \u001b[0;36m<module>\u001b[1;34m\u001b[0m\n\u001b[0;32m     15\u001b[0m     \u001b[0mresponse\u001b[0m \u001b[1;33m=\u001b[0m \u001b[0mrequests\u001b[0m\u001b[1;33m.\u001b[0m\u001b[0mget\u001b[0m\u001b[1;33m(\u001b[0m\u001b[0murl\u001b[0m\u001b[1;33m,\u001b[0m\u001b[0mheaders\u001b[0m\u001b[1;33m=\u001b[0m\u001b[0mheaders\u001b[0m\u001b[1;33m,\u001b[0m \u001b[0mparams\u001b[0m\u001b[1;33m=\u001b[0m\u001b[0mparams\u001b[0m\u001b[1;33m)\u001b[0m\u001b[1;33m\u001b[0m\u001b[1;33m\u001b[0m\u001b[0m\n\u001b[0;32m     16\u001b[0m     \u001b[0mr\u001b[0m\u001b[1;33m=\u001b[0m\u001b[0mresponse\u001b[0m\u001b[1;33m.\u001b[0m\u001b[0mjson\u001b[0m\u001b[1;33m(\u001b[0m\u001b[1;33m)\u001b[0m\u001b[1;33m\u001b[0m\u001b[1;33m\u001b[0m\u001b[0m\n\u001b[1;32m---> 17\u001b[1;33m     \u001b[0missues_list\u001b[0m\u001b[1;33m=\u001b[0m\u001b[0missues_list\u001b[0m\u001b[1;33m+\u001b[0m\u001b[0mr\u001b[0m\u001b[1;33m\u001b[0m\u001b[1;33m\u001b[0m\u001b[0m\n\u001b[0m\u001b[0;32m     18\u001b[0m     \u001b[0mres\u001b[0m\u001b[1;33m=\u001b[0m\u001b[0mlen\u001b[0m\u001b[1;33m(\u001b[0m\u001b[0mresponse\u001b[0m\u001b[1;33m.\u001b[0m\u001b[0mjson\u001b[0m\u001b[1;33m(\u001b[0m\u001b[1;33m)\u001b[0m\u001b[1;33m)\u001b[0m\u001b[1;33m\u001b[0m\u001b[1;33m\u001b[0m\u001b[0m\n\u001b[0;32m     19\u001b[0m     \u001b[0mprint\u001b[0m\u001b[1;33m(\u001b[0m\u001b[0mresponse\u001b[0m\u001b[1;33m)\u001b[0m\u001b[1;33m\u001b[0m\u001b[1;33m\u001b[0m\u001b[0m\n",
      "\u001b[1;31mTypeError\u001b[0m: can only concatenate list (not \"dict\") to list"
     ]
    }
   ],
   "source": [
    "issues_list=[]\n",
    "username=\"imarohitshakya\"\n",
    "repo=\"iamrohitshakya.github.io\"\n",
    "url=f\"https://api.github.com/repos/{username}/{repo}/issues\"\n",
    "pageno=1\n",
    "res=100\n",
    "while(res==100):\n",
    "    params = {\n",
    "        \"state\": \"open\",\n",
    "        \"per_page\": \"100\",\n",
    "        \"page\":pageno,\n",
    "    }\n",
    "    pageno=pageno+1\n",
    "    headers = {}\n",
    "    response = requests.get(url,headers=headers, params=params)\n",
    "    issues_list=issues_list+response.json()\n",
    "    res=len(response.json())\n",
    "    print(response)"
   ]
  },
  {
   "cell_type": "code",
   "execution_count": 3,
   "metadata": {},
   "outputs": [
    {
     "name": "stderr",
     "output_type": "stream",
     "text": [
      "IOPub data rate exceeded.\n",
      "The notebook server will temporarily stop sending output\n",
      "to the client in order to avoid crashing it.\n",
      "To change this limit, set the config variable\n",
      "`--NotebookApp.iopub_data_rate_limit`.\n",
      "\n",
      "Current values:\n",
      "NotebookApp.iopub_data_rate_limit=1000000.0 (bytes/sec)\n",
      "NotebookApp.rate_limit_window=3.0 (secs)\n",
      "\n"
     ]
    }
   ],
   "source": [
    "print(issues_list)"
   ]
  },
  {
   "cell_type": "code",
   "execution_count": 28,
   "metadata": {},
   "outputs": [
    {
     "name": "stdout",
     "output_type": "stream",
     "text": [
      "16\n"
     ]
    }
   ],
   "source": [
    "print(len(issues_list))"
   ]
  },
  {
   "cell_type": "code",
   "execution_count": 29,
   "metadata": {},
   "outputs": [],
   "source": [
    "first_issue=issues_list[0]"
   ]
  },
  {
   "cell_type": "code",
   "execution_count": 29,
   "metadata": {},
   "outputs": [
    {
     "name": "stdout",
     "output_type": "stream",
     "text": [
      "{'url': 'https://api.github.com/repos/tensorflow/tensorflow/issues/47310', 'repository_url': 'https://api.github.com/repos/tensorflow/tensorflow', 'labels_url': 'https://api.github.com/repos/tensorflow/tensorflow/issues/47310/labels{/name}', 'comments_url': 'https://api.github.com/repos/tensorflow/tensorflow/issues/47310/comments', 'events_url': 'https://api.github.com/repos/tensorflow/tensorflow/issues/47310/events', 'html_url': 'https://github.com/tensorflow/tensorflow/pull/47310', 'id': 813433053, 'node_id': 'MDExOlB1bGxSZXF1ZXN0NTc3NTgyMTE0', 'number': 47310, 'title': 'Update train.py', 'user': {'login': 'amahendrakar', 'id': 57165142, 'node_id': 'MDQ6VXNlcjU3MTY1MTQy', 'avatar_url': 'https://avatars.githubusercontent.com/u/57165142?v=4', 'gravatar_id': '', 'url': 'https://api.github.com/users/amahendrakar', 'html_url': 'https://github.com/amahendrakar', 'followers_url': 'https://api.github.com/users/amahendrakar/followers', 'following_url': 'https://api.github.com/users/amahendrakar/following{/other_user}', 'gists_url': 'https://api.github.com/users/amahendrakar/gists{/gist_id}', 'starred_url': 'https://api.github.com/users/amahendrakar/starred{/owner}{/repo}', 'subscriptions_url': 'https://api.github.com/users/amahendrakar/subscriptions', 'organizations_url': 'https://api.github.com/users/amahendrakar/orgs', 'repos_url': 'https://api.github.com/users/amahendrakar/repos', 'events_url': 'https://api.github.com/users/amahendrakar/events{/privacy}', 'received_events_url': 'https://api.github.com/users/amahendrakar/received_events', 'type': 'User', 'site_admin': False}, 'labels': [{'id': 300136587, 'node_id': 'MDU6TGFiZWwzMDAxMzY1ODc=', 'url': 'https://api.github.com/repos/tensorflow/tensorflow/labels/cla:%20yes', 'name': 'cla: yes', 'color': '009800', 'default': False, 'description': None}, {'id': 1169364259, 'node_id': 'MDU6TGFiZWwxMTY5MzY0MjU5', 'url': 'https://api.github.com/repos/tensorflow/tensorflow/labels/size:XS', 'name': 'size:XS', 'color': 'adafea', 'default': False, 'description': 'CL Change Size: Extra Small'}, {'id': 284443156, 'node_id': 'MDU6TGFiZWwyODQ0NDMxNTY=', 'url': 'https://api.github.com/repos/tensorflow/tensorflow/labels/type:docs-bug', 'name': 'type:docs-bug', 'color': '159b2e', 'default': False, 'description': 'Document issues'}], 'state': 'open', 'locked': False, 'assignee': {'login': 'gbaned', 'id': 48215717, 'node_id': 'MDQ6VXNlcjQ4MjE1NzE3', 'avatar_url': 'https://avatars.githubusercontent.com/u/48215717?v=4', 'gravatar_id': '', 'url': 'https://api.github.com/users/gbaned', 'html_url': 'https://github.com/gbaned', 'followers_url': 'https://api.github.com/users/gbaned/followers', 'following_url': 'https://api.github.com/users/gbaned/following{/other_user}', 'gists_url': 'https://api.github.com/users/gbaned/gists{/gist_id}', 'starred_url': 'https://api.github.com/users/gbaned/starred{/owner}{/repo}', 'subscriptions_url': 'https://api.github.com/users/gbaned/subscriptions', 'organizations_url': 'https://api.github.com/users/gbaned/orgs', 'repos_url': 'https://api.github.com/users/gbaned/repos', 'events_url': 'https://api.github.com/users/gbaned/events{/privacy}', 'received_events_url': 'https://api.github.com/users/gbaned/received_events', 'type': 'User', 'site_admin': False}, 'assignees': [{'login': 'gbaned', 'id': 48215717, 'node_id': 'MDQ6VXNlcjQ4MjE1NzE3', 'avatar_url': 'https://avatars.githubusercontent.com/u/48215717?v=4', 'gravatar_id': '', 'url': 'https://api.github.com/users/gbaned', 'html_url': 'https://github.com/gbaned', 'followers_url': 'https://api.github.com/users/gbaned/followers', 'following_url': 'https://api.github.com/users/gbaned/following{/other_user}', 'gists_url': 'https://api.github.com/users/gbaned/gists{/gist_id}', 'starred_url': 'https://api.github.com/users/gbaned/starred{/owner}{/repo}', 'subscriptions_url': 'https://api.github.com/users/gbaned/subscriptions', 'organizations_url': 'https://api.github.com/users/gbaned/orgs', 'repos_url': 'https://api.github.com/users/gbaned/repos', 'events_url': 'https://api.github.com/users/gbaned/events{/privacy}', 'received_events_url': 'https://api.github.com/users/gbaned/received_events', 'type': 'User', 'site_admin': False}], 'milestone': None, 'comments': 0, 'created_at': '2021-02-22T11:55:52Z', 'updated_at': '2021-02-22T12:05:46Z', 'closed_at': None, 'author_association': 'CONTRIBUTOR', 'active_lock_reason': None, 'pull_request': {'url': 'https://api.github.com/repos/tensorflow/tensorflow/pulls/47310', 'html_url': 'https://github.com/tensorflow/tensorflow/pull/47310', 'diff_url': 'https://github.com/tensorflow/tensorflow/pull/47310.diff', 'patch_url': 'https://github.com/tensorflow/tensorflow/pull/47310.patch'}, 'body': 'Updated audio recognition tutorial link.\\r\\n\\r\\nFixes issue [#47305](https://github.com/tensorflow/tensorflow/issues/47305)', 'performed_via_github_app': None}\n"
     ]
    }
   ],
   "source": [
    "print(first_issue)"
   ]
  },
  {
   "cell_type": "code",
   "execution_count": 30,
   "metadata": {},
   "outputs": [
    {
     "name": "stdout",
     "output_type": "stream",
     "text": [
      "kuch bhi\n"
     ]
    }
   ],
   "source": [
    "print(first_issue[\"title\"])"
   ]
  },
  {
   "cell_type": "code",
   "execution_count": 31,
   "metadata": {},
   "outputs": [
    {
     "name": "stdout",
     "output_type": "stream",
     "text": [
      "[{'id': 2666986514, 'node_id': 'MDU6TGFiZWwyNjY2OTg2NTE0', 'url': 'https://api.github.com/repos/iamrohitshakya/iamrohitshakya.github.io/labels/bug', 'name': 'bug', 'color': 'd73a4a', 'default': True, 'description': \"Something isn't working\"}]\n"
     ]
    }
   ],
   "source": [
    "print(first_issue[\"labels\"])"
   ]
  },
  {
   "cell_type": "code",
   "execution_count": 35,
   "metadata": {},
   "outputs": [
    {
     "name": "stdout",
     "output_type": "stream",
     "text": [
      "[{'id': 2666986514, 'node_id': 'MDU6TGFiZWwyNjY2OTg2NTE0', 'url': 'https://api.github.com/repos/iamrohitshakya/iamrohitshakya.github.io/labels/bug', 'name': 'bug', 'color': 'd73a4a', 'default': True, 'description': \"Something isn't working\"}]\n"
     ]
    }
   ],
   "source": [
    "labels = first_issue[\"labels\"]\n",
    "print(labels)"
   ]
  },
  {
   "cell_type": "code",
   "execution_count": 36,
   "metadata": {},
   "outputs": [
    {
     "name": "stdout",
     "output_type": "stream",
     "text": [
      "bug\n"
     ]
    }
   ],
   "source": [
    "for i in range(len(labels)):\n",
    "    label=labels[i]\n",
    "    label_name=label[\"name\"]\n",
    "    print(label_name)"
   ]
  },
  {
   "cell_type": "code",
   "execution_count": 37,
   "metadata": {},
   "outputs": [
    {
     "name": "stdout",
     "output_type": "stream",
     "text": [
      "kuch bhi\n",
      "server problem\n",
      "authentication error\n",
      "need to fix login system\n",
      "implement something new\n",
      "add some more functionalities in your website\n",
      "this issue is labeled as empty\n",
      "this issue is labeled as good first issue\n",
      "this issue is labeled as wont fix\n",
      "this issue is labeled as help needed\n",
      "this issue is labeled as question\n",
      "this issue is labels as duplicate\n",
      "this issue is labeled as invalid\n",
      "this issue is labeled as documentation\n",
      "this issue is type of enhancement\n",
      "this is bug issue\n"
     ]
    }
   ],
   "source": [
    "for i in range(len(issues_list)):\n",
    "    issue=issues_list[i]\n",
    "    issue_title=issue[\"title\"]\n",
    "    print(issue_title)"
   ]
  },
  {
   "cell_type": "code",
   "execution_count": 41,
   "metadata": {},
   "outputs": [
    {
     "name": "stdout",
     "output_type": "stream",
     "text": [
      "\n",
      "\n",
      "issue title -  kuch bhi\n",
      "issue body -  \n",
      "issue labels - \n",
      "bug\n",
      "\n",
      "\n",
      "issue title -  server problem\n",
      "issue body -  \n",
      "issue labels - \n",
      "\n",
      "\n",
      "issue title -  authentication error\n",
      "issue body -  \n",
      "issue labels - \n",
      "\n",
      "\n",
      "issue title -  need to fix login system\n",
      "issue body -  \n",
      "issue labels - \n",
      "\n",
      "\n",
      "issue title -  implement something new\n",
      "issue body -  \n",
      "issue labels - \n",
      "\n",
      "\n",
      "issue title -  add some more functionalities in your website\n",
      "issue body -  \n",
      "issue labels - \n",
      "\n",
      "\n",
      "issue title -  this issue is labeled as empty\n",
      "issue body -  just for normal conversation\n",
      "issue labels - \n",
      "empty\n",
      "\n",
      "\n",
      "issue title -  this issue is labeled as good first issue\n",
      "issue body -  good for newcomers to fixed\n",
      "issue labels - \n",
      "good first issue\n",
      "\n",
      "\n",
      "issue title -  this issue is labeled as wont fix\n",
      "issue body -  no need to fix, it will not work\n",
      "issue labels - \n",
      "wontfix\n",
      "\n",
      "\n",
      "issue title -  this issue is labeled as help needed\n",
      "issue body -  extra attension is needed\n",
      "issue labels - \n",
      "help wanted\n",
      "\n",
      "\n",
      "issue title -  this issue is labeled as question\n",
      "issue body -  further information is requsted\n",
      "issue labels - \n",
      "question\n",
      "\n",
      "\n",
      "issue title -  this issue is labels as duplicate\n",
      "issue body -  this issue is already exist why you have made it\n",
      "issue labels - \n",
      "duplicate\n",
      "\n",
      "\n",
      "issue title -  this issue is labeled as invalid\n",
      "issue body -  something is not right in your website\n",
      "issue labels - \n",
      "invalid\n",
      "\n",
      "\n",
      "issue title -  this issue is labeled as documentation\n",
      "issue body -  improvements in documentation\n",
      "issue labels - \n",
      "documentation\n",
      "\n",
      "\n",
      "issue title -  this issue is type of enhancement\n",
      "issue body -  \n",
      "issue labels - \n",
      "enhancement\n",
      "\n",
      "\n",
      "issue title -  this is bug issue\n",
      "issue body -  no tension\n",
      "issue labels - \n",
      "bug\n"
     ]
    }
   ],
   "source": [
    "for i in range(len(issues_list)):\n",
    "    issue=issues_list[i]\n",
    "    issue_title=issue[\"title\"]\n",
    "    issue_body=issue[\"body\"]\n",
    "    print(\"\\n\\nissue title - \",issue_title)\n",
    "    print(\"issue body - \",issue_body)\n",
    "    print(\"issue labels - \")\n",
    "    issue_labels_list = issue[\"labels\"]\n",
    "    for j in range(len(issue_labels_list)):\n",
    "        label=issue_labels_list[j]\n",
    "        label_name=label[\"name\"]\n",
    "        print(label_name)"
   ]
  },
  {
   "cell_type": "code",
   "execution_count": 42,
   "metadata": {},
   "outputs": [],
   "source": [
    "data=[]\n",
    "labels_list=[]\n",
    "for i in range(len(issues_list)):\n",
    "    single_data=[]\n",
    "    issue=issues_list[i]\n",
    "    issue_title=issue[\"title\"]\n",
    "    issue_body=issue[\"body\"]\n",
    "    \n",
    "    single_data=single_data+[issue_title,issue_body];\n",
    "    \n",
    "    data=data+[single_data];\n",
    "    \n",
    "    issue_labels_list = issue[\"labels\"]\n",
    "    single_label_list=[]\n",
    "    for j in range(len(issue_labels_list)):\n",
    "        label=issue_labels_list[j]\n",
    "        label_name=label[\"name\"]\n",
    "        single_label_list=single_label_list+[label_name]\n",
    "    labels_list=labels_list+[single_label_list]"
   ]
  },
  {
   "cell_type": "code",
   "execution_count": 40,
   "metadata": {},
   "outputs": [
    {
     "name": "stdout",
     "output_type": "stream",
     "text": [
      "16 16\n"
     ]
    }
   ],
   "source": [
    "print(len(data),len(labels_list))"
   ]
  },
  {
   "cell_type": "code",
   "execution_count": 43,
   "metadata": {},
   "outputs": [
    {
     "name": "stdout",
     "output_type": "stream",
     "text": [
      "['bug']\n",
      "[]\n",
      "[]\n",
      "[]\n",
      "[]\n",
      "[]\n",
      "['empty']\n",
      "['good first issue']\n",
      "['wontfix']\n",
      "['help wanted']\n",
      "['question']\n",
      "['duplicate']\n",
      "['invalid']\n",
      "['documentation']\n",
      "['enhancement']\n",
      "['bug']\n"
     ]
    }
   ],
   "source": [
    "for i in range(len(labels_list)):\n",
    "    print(labels_list[i])"
   ]
  },
  {
   "cell_type": "code",
   "execution_count": 44,
   "metadata": {},
   "outputs": [
    {
     "name": "stdout",
     "output_type": "stream",
     "text": [
      "kuch bhi\n",
      "\n",
      "server problem\n",
      "\n",
      "authentication error\n",
      "\n",
      "need to fix login system\n",
      "\n",
      "implement something new\n",
      "\n",
      "add some more functionalities in your website\n",
      "\n",
      "this issue is labeled as empty\n",
      "\n",
      "this issue is labeled as good first issue\n",
      "\n",
      "this issue is labeled as wont fix\n",
      "\n",
      "this issue is labeled as help needed\n",
      "\n",
      "this issue is labeled as question\n",
      "\n",
      "this issue is labels as duplicate\n",
      "\n",
      "this issue is labeled as invalid\n",
      "\n",
      "this issue is labeled as documentation\n",
      "\n",
      "this issue is type of enhancement\n",
      "\n",
      "this is bug issue\n",
      "\n"
     ]
    }
   ],
   "source": [
    "for i in range(len(data)):\n",
    "    print(data[i][0])\n",
    "    print()"
   ]
  },
  {
   "cell_type": "code",
   "execution_count": null,
   "metadata": {},
   "outputs": [],
   "source": []
  }
 ],
 "metadata": {
  "kernelspec": {
   "display_name": "Python 3",
   "language": "python",
   "name": "python3"
  },
  "language_info": {
   "codemirror_mode": {
    "name": "ipython",
    "version": 3
   },
   "file_extension": ".py",
   "mimetype": "text/x-python",
   "name": "python",
   "nbconvert_exporter": "python",
   "pygments_lexer": "ipython3",
   "version": "3.8.5"
  }
 },
 "nbformat": 4,
 "nbformat_minor": 4
}
