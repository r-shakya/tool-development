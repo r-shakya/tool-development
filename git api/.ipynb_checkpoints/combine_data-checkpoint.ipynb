{
 "cells": [
  {
   "cell_type": "code",
   "execution_count": 1,
   "metadata": {},
   "outputs": [
    {
     "name": "stdout",
     "output_type": "stream",
     "text": [
      "6000\n",
      "0\n",
      "6000\n"
     ]
    }
   ],
   "source": [
    "issues_list=[]\n",
    "\n",
    "import json\n",
    "\n",
    "f = open('tensorflow_closed_6000.json','r')\n",
    "\n",
    "data = json.load(f) \n",
    "\n",
    "print(len(data))\n",
    "\n",
    "print(len(issues_list))\n",
    "issues_list=issues_list+data\n",
    "print(len(issues_list))\n",
    "\n",
    "f.close()"
   ]
  },
  {
   "cell_type": "code",
   "execution_count": 11,
   "metadata": {},
   "outputs": [
    {
     "name": "stdout",
     "output_type": "stream",
     "text": [
      "ImportError: DLL load failed: A dynamic link library (DLL) initialization routine failed.\n",
      "ImportError: DLL load failed: A dynamic link library (DLL) initialization routine failed.\n"
     ]
    }
   ],
   "source": [
    "print(data[0][\"title\"])\n",
    "print(issues_list[0][\"title\"])"
   ]
  },
  {
   "cell_type": "code",
   "execution_count": 12,
   "metadata": {},
   "outputs": [
    {
     "name": "stdout",
     "output_type": "stream",
     "text": [
      "6000\n",
      "6000\n",
      "12000\n"
     ]
    }
   ],
   "source": [
    "f = open('tensorflow_closed_61_120.json','r')\n",
    "\n",
    "data = json.load(f) \n",
    "\n",
    "print(len(data))\n",
    "\n",
    "print(len(issues_list))\n",
    "issues_list=issues_list+data\n",
    "print(len(issues_list))\n",
    "\n",
    "f.close()"
   ]
  },
  {
   "cell_type": "code",
   "execution_count": 15,
   "metadata": {},
   "outputs": [
    {
     "name": "stdout",
     "output_type": "stream",
     "text": [
      "404 Not found\n",
      "404 Not found\n"
     ]
    }
   ],
   "source": [
    "print(data[0][\"title\"])\n",
    "print(issues_list[6000][\"title\"])"
   ]
  },
  {
   "cell_type": "code",
   "execution_count": 16,
   "metadata": {},
   "outputs": [
    {
     "name": "stdout",
     "output_type": "stream",
     "text": [
      "6000\n",
      "12000\n",
      "18000\n"
     ]
    }
   ],
   "source": [
    "f = open('tensorflow_closed_121_180.json','r')\n",
    "\n",
    "data = json.load(f) \n",
    "\n",
    "print(len(data))\n",
    "\n",
    "print(len(issues_list))\n",
    "issues_list=issues_list+data\n",
    "print(len(issues_list))\n",
    "\n",
    "f.close()"
   ]
  },
  {
   "cell_type": "code",
   "execution_count": 17,
   "metadata": {},
   "outputs": [
    {
     "name": "stdout",
     "output_type": "stream",
     "text": [
      " \"tf.train.experimental.enable_mixed_precision_graph_rewrite(opt)\" is not compatible with \"tf.keras.LearningRateScheduler\" and \"tf.keras.ReduceLROnPlateau\"\n",
      " \"tf.train.experimental.enable_mixed_precision_graph_rewrite(opt)\" is not compatible with \"tf.keras.LearningRateScheduler\" and \"tf.keras.ReduceLROnPlateau\"\n"
     ]
    }
   ],
   "source": [
    "print(data[0][\"title\"])\n",
    "print(issues_list[12000][\"title\"])"
   ]
  },
  {
   "cell_type": "code",
   "execution_count": 18,
   "metadata": {},
   "outputs": [
    {
     "name": "stdout",
     "output_type": "stream",
     "text": [
      "6000\n",
      "18000\n",
      "24000\n"
     ]
    }
   ],
   "source": [
    "f = open('tensorflow_closed_181_240.json','r')\n",
    "\n",
    "data = json.load(f) \n",
    "\n",
    "print(len(data))\n",
    "\n",
    "print(len(issues_list))\n",
    "issues_list=issues_list+data\n",
    "print(len(issues_list))\n",
    "\n",
    "f.close()"
   ]
  },
  {
   "cell_type": "code",
   "execution_count": 19,
   "metadata": {},
   "outputs": [
    {
     "name": "stdout",
     "output_type": "stream",
     "text": [
      "ImportError: librt.so.1: No such file or directory\n",
      "ImportError: librt.so.1: No such file or directory\n"
     ]
    }
   ],
   "source": [
    "print(data[0][\"title\"])\n",
    "print(issues_list[18000][\"title\"])"
   ]
  },
  {
   "cell_type": "code",
   "execution_count": 20,
   "metadata": {},
   "outputs": [
    {
     "name": "stdout",
     "output_type": "stream",
     "text": [
      "24000\n",
      "24000\n"
     ]
    }
   ],
   "source": [
    "print(len(issues_list))\n",
    "\n",
    "import json\n",
    "\n",
    "with open('tensorflow_closed_24000.json', 'w') as json_file:\n",
    "    json.dump(issues_list, json_file)\n",
    "\n",
    "f = open('tensorflow_closed_24000.json','r')\n",
    "\n",
    "data = json.load(f) \n",
    "\n",
    "print(len(data))\n",
    "\n",
    "f.close() "
   ]
  },
  {
   "cell_type": "code",
   "execution_count": null,
   "metadata": {},
   "outputs": [],
   "source": []
  },
  {
   "cell_type": "code",
   "execution_count": null,
   "metadata": {},
   "outputs": [],
   "source": []
  },
  {
   "cell_type": "code",
   "execution_count": null,
   "metadata": {},
   "outputs": [],
   "source": []
  },
  {
   "cell_type": "code",
   "execution_count": null,
   "metadata": {},
   "outputs": [],
   "source": []
  },
  {
   "cell_type": "code",
   "execution_count": null,
   "metadata": {},
   "outputs": [],
   "source": []
  },
  {
   "cell_type": "code",
   "execution_count": null,
   "metadata": {},
   "outputs": [],
   "source": []
  },
  {
   "cell_type": "code",
   "execution_count": null,
   "metadata": {},
   "outputs": [],
   "source": []
  },
  {
   "cell_type": "code",
   "execution_count": null,
   "metadata": {},
   "outputs": [],
   "source": []
  },
  {
   "cell_type": "code",
   "execution_count": null,
   "metadata": {},
   "outputs": [],
   "source": []
  },
  {
   "cell_type": "code",
   "execution_count": null,
   "metadata": {},
   "outputs": [],
   "source": []
  },
  {
   "cell_type": "code",
   "execution_count": null,
   "metadata": {},
   "outputs": [],
   "source": []
  },
  {
   "cell_type": "code",
   "execution_count": null,
   "metadata": {},
   "outputs": [],
   "source": []
  },
  {
   "cell_type": "code",
   "execution_count": null,
   "metadata": {},
   "outputs": [],
   "source": []
  },
  {
   "cell_type": "code",
   "execution_count": null,
   "metadata": {},
   "outputs": [],
   "source": []
  }
 ],
 "metadata": {
  "kernelspec": {
   "display_name": "Python 3",
   "language": "python",
   "name": "python3"
  },
  "language_info": {
   "codemirror_mode": {
    "name": "ipython",
    "version": 3
   },
   "file_extension": ".py",
   "mimetype": "text/x-python",
   "name": "python",
   "nbconvert_exporter": "python",
   "pygments_lexer": "ipython3",
   "version": "3.8.5"
  }
 },
 "nbformat": 4,
 "nbformat_minor": 4
}
