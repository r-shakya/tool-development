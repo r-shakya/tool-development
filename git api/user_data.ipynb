{
 "cells": [
  {
   "cell_type": "code",
   "execution_count": 1,
   "metadata": {},
   "outputs": [],
   "source": [
    "import requests"
   ]
  },
  {
   "cell_type": "code",
   "execution_count": 2,
   "metadata": {},
   "outputs": [],
   "source": [
    "username=\"rohit-cs18b029\""
   ]
  },
  {
   "cell_type": "code",
   "execution_count": 6,
   "metadata": {},
   "outputs": [],
   "source": [
    "url=f\"https://api.github.com/users/{username}\""
   ]
  },
  {
   "cell_type": "code",
   "execution_count": 7,
   "metadata": {},
   "outputs": [],
   "source": [
    "user_data=requests.get(url).json();"
   ]
  },
  {
   "cell_type": "code",
   "execution_count": 8,
   "metadata": {},
   "outputs": [
    {
     "name": "stdout",
     "output_type": "stream",
     "text": [
      "{'login': 'rohit-cs18b029', 'id': 54976520, 'node_id': 'MDQ6VXNlcjU0OTc2NTIw', 'avatar_url': 'https://avatars.githubusercontent.com/u/54976520?v=4', 'gravatar_id': '', 'url': 'https://api.github.com/users/rohit-cs18b029', 'html_url': 'https://github.com/rohit-cs18b029', 'followers_url': 'https://api.github.com/users/rohit-cs18b029/followers', 'following_url': 'https://api.github.com/users/rohit-cs18b029/following{/other_user}', 'gists_url': 'https://api.github.com/users/rohit-cs18b029/gists{/gist_id}', 'starred_url': 'https://api.github.com/users/rohit-cs18b029/starred{/owner}{/repo}', 'subscriptions_url': 'https://api.github.com/users/rohit-cs18b029/subscriptions', 'organizations_url': 'https://api.github.com/users/rohit-cs18b029/orgs', 'repos_url': 'https://api.github.com/users/rohit-cs18b029/repos', 'events_url': 'https://api.github.com/users/rohit-cs18b029/events{/privacy}', 'received_events_url': 'https://api.github.com/users/rohit-cs18b029/received_events', 'type': 'User', 'site_admin': False, 'name': None, 'company': None, 'blog': '', 'location': None, 'email': None, 'hireable': None, 'bio': None, 'twitter_username': None, 'public_repos': 13, 'public_gists': 0, 'followers': 0, 'following': 0, 'created_at': '2019-09-06T07:10:33Z', 'updated_at': '2021-02-21T16:50:47Z'}\n"
     ]
    }
   ],
   "source": [
    "print(user_data)"
   ]
  },
  {
   "cell_type": "code",
   "execution_count": null,
   "metadata": {},
   "outputs": [],
   "source": []
  }
 ],
 "metadata": {
  "kernelspec": {
   "display_name": "Python 3",
   "language": "python",
   "name": "python3"
  },
  "language_info": {
   "codemirror_mode": {
    "name": "ipython",
    "version": 3
   },
   "file_extension": ".py",
   "mimetype": "text/x-python",
   "name": "python",
   "nbconvert_exporter": "python",
   "pygments_lexer": "ipython3",
   "version": "3.8.5"
  }
 },
 "nbformat": 4,
 "nbformat_minor": 4
}
