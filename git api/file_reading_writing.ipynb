{
 "cells": [
  {
   "cell_type": "code",
   "execution_count": 6,
   "metadata": {},
   "outputs": [],
   "source": [
    "import json\n",
    "\n",
    "my_details = [{\n",
    "    'name': 'John Doe',\n",
    "    'age': 29\n",
    "},\n",
    "{\n",
    "    'name': 'John',\n",
    "    'age': 30\n",
    "}\n",
    "]\n",
    "\n",
    "with open('personal.json', 'w') as json_file:\n",
    "    json.dump(my_details, json_file)"
   ]
  },
  {
   "cell_type": "code",
   "execution_count": 9,
   "metadata": {},
   "outputs": [
    {
     "name": "stdout",
     "output_type": "stream",
     "text": [
      "[{'name': 'John Doe', 'age': 29}, {'name': 'John', 'age': 30}]\n",
      "{'name': 'John Doe', 'age': 29}\n",
      "{'name': 'John', 'age': 30}\n"
     ]
    }
   ],
   "source": [
    "f = open('personal.json',) \n",
    "  \n",
    "# returns JSON object as  \n",
    "# a dictionary \n",
    "data = json.load(f) \n",
    "\n",
    "print(data)\n",
    "  \n",
    "# Iterating through the json \n",
    "# list \n",
    "for i in data:\n",
    "    print(i) \n",
    "  \n",
    "# Closing file \n",
    "f.close() "
   ]
  },
  {
   "cell_type": "code",
   "execution_count": 10,
   "metadata": {},
   "outputs": [],
   "source": [
    "my_details = [{\n",
    "    'name': 'rohit',\n",
    "    'age': 21\n",
    "},\n",
    "{\n",
    "    'name': 'shakya',\n",
    "    'age': 21\n",
    "}\n",
    "]"
   ]
  },
  {
   "cell_type": "code",
   "execution_count": 13,
   "metadata": {},
   "outputs": [
    {
     "name": "stdout",
     "output_type": "stream",
     "text": [
      "[{'name': 'John Doe', 'age': 29}, {'name': 'John', 'age': 30}]\n",
      "{'name': 'John Doe', 'age': 29}\n",
      "{'name': 'John', 'age': 30}\n"
     ]
    }
   ],
   "source": [
    "f = open('personal.json','r') \n",
    "  \n",
    "# returns JSON object as  \n",
    "# a dictionary \n",
    "data = json.load(f) \n",
    "\n",
    "print(data)\n",
    "  \n",
    "# Iterating through the json \n",
    "# list \n",
    "for i in data:\n",
    "    print(i) \n",
    "  \n",
    "# Closing file \n",
    "f.close() "
   ]
  },
  {
   "cell_type": "code",
   "execution_count": 14,
   "metadata": {},
   "outputs": [],
   "source": [
    "my_details = [{\n",
    "    'name': 'rohit',\n",
    "    'age': 21\n",
    "},\n",
    "{\n",
    "    'name': 'shakya',\n",
    "    'age': 21\n",
    "}\n",
    "]\n",
    "\n",
    "with open('personal.json', 'w') as json_file:\n",
    "    json.dump(my_details, json_file)"
   ]
  },
  {
   "cell_type": "code",
   "execution_count": 15,
   "metadata": {},
   "outputs": [
    {
     "name": "stdout",
     "output_type": "stream",
     "text": [
      "[{'name': 'rohit', 'age': 21}, {'name': 'shakya', 'age': 21}]\n",
      "{'name': 'rohit', 'age': 21}\n",
      "{'name': 'shakya', 'age': 21}\n"
     ]
    }
   ],
   "source": [
    "f = open('personal.json','r') \n",
    "  \n",
    "# returns JSON object as  \n",
    "# a dictionary \n",
    "data = json.load(f) \n",
    "\n",
    "print(data)\n",
    "  \n",
    "# Iterating through the json \n",
    "# list \n",
    "for i in data:\n",
    "    print(i) \n",
    "  \n",
    "# Closing file \n",
    "f.close() "
   ]
  },
  {
   "cell_type": "code",
   "execution_count": 16,
   "metadata": {},
   "outputs": [],
   "source": [
    "my_details = [{\n",
    "    'name': 'John Doe',\n",
    "    'age': 29\n",
    "},\n",
    "{\n",
    "    'name': 'John',\n",
    "    'age': 30\n",
    "}\n",
    "]"
   ]
  },
  {
   "cell_type": "code",
   "execution_count": 17,
   "metadata": {},
   "outputs": [
    {
     "name": "stdout",
     "output_type": "stream",
     "text": [
      "[{'name': 'rohit', 'age': 21}, {'name': 'shakya', 'age': 21}]\n",
      "{'name': 'rohit', 'age': 21}\n",
      "{'name': 'shakya', 'age': 21}\n"
     ]
    }
   ],
   "source": [
    "f = open('personal.json','r') \n",
    "  \n",
    "# returns JSON object as  \n",
    "# a dictionary \n",
    "data = json.load(f) \n",
    "\n",
    "print(data)\n",
    "  \n",
    "# Iterating through the json \n",
    "# list \n",
    "for i in data:\n",
    "    print(i) \n",
    "  \n",
    "# Closing file \n",
    "f.close() "
   ]
  },
  {
   "cell_type": "code",
   "execution_count": 18,
   "metadata": {},
   "outputs": [
    {
     "name": "stdout",
     "output_type": "stream",
     "text": [
      "[{'name': 'rohit', 'age': 21}, {'name': 'shakya', 'age': 21}]\n"
     ]
    }
   ],
   "source": [
    "print(data)"
   ]
  },
  {
   "cell_type": "code",
   "execution_count": 19,
   "metadata": {},
   "outputs": [],
   "source": [
    "data=data+my_details"
   ]
  },
  {
   "cell_type": "code",
   "execution_count": 20,
   "metadata": {},
   "outputs": [
    {
     "name": "stdout",
     "output_type": "stream",
     "text": [
      "[{'name': 'rohit', 'age': 21}, {'name': 'shakya', 'age': 21}, {'name': 'John Doe', 'age': 29}, {'name': 'John', 'age': 30}]\n"
     ]
    }
   ],
   "source": [
    "print(data)"
   ]
  },
  {
   "cell_type": "code",
   "execution_count": 21,
   "metadata": {},
   "outputs": [],
   "source": [
    "with open('personal.json', 'w') as json_file:\n",
    "    json.dump(data, json_file)"
   ]
  },
  {
   "cell_type": "code",
   "execution_count": 22,
   "metadata": {},
   "outputs": [
    {
     "name": "stdout",
     "output_type": "stream",
     "text": [
      "[{'name': 'rohit', 'age': 21}, {'name': 'shakya', 'age': 21}, {'name': 'John Doe', 'age': 29}, {'name': 'John', 'age': 30}]\n",
      "{'name': 'rohit', 'age': 21}\n",
      "{'name': 'shakya', 'age': 21}\n",
      "{'name': 'John Doe', 'age': 29}\n",
      "{'name': 'John', 'age': 30}\n"
     ]
    }
   ],
   "source": [
    "f = open('personal.json','r') \n",
    "  \n",
    "# returns JSON object as  \n",
    "# a dictionary \n",
    "data = json.load(f) \n",
    "\n",
    "print(data)\n",
    "  \n",
    "# Iterating through the json \n",
    "# list \n",
    "for i in data:\n",
    "    print(i) \n",
    "  \n",
    "# Closing file \n",
    "f.close() "
   ]
  },
  {
   "cell_type": "code",
   "execution_count": 24,
   "metadata": {},
   "outputs": [
    {
     "name": "stdout",
     "output_type": "stream",
     "text": [
      "[{'name': 'rohit', 'age': 21}, {'name': 'shakya', 'age': 21}, {'name': 'John Doe', 'age': 29}, {'name': 'John', 'age': 30}]\n"
     ]
    }
   ],
   "source": [
    "f = open('personal.json','r') \n",
    "  \n",
    "# returns JSON object as  \n",
    "# a dictionary \n",
    "data = json.load(f) \n",
    "print(data)"
   ]
  },
  {
   "cell_type": "code",
   "execution_count": 25,
   "metadata": {},
   "outputs": [],
   "source": [
    "data=data+[{\n",
    "    'name': 'iamrohit',\n",
    "    'age': 21\n",
    "}\n",
    "]"
   ]
  },
  {
   "cell_type": "code",
   "execution_count": 26,
   "metadata": {},
   "outputs": [],
   "source": [
    "with open('personal.json', 'w') as json_file:\n",
    "    json.dump(data, json_file)"
   ]
  },
  {
   "cell_type": "code",
   "execution_count": 27,
   "metadata": {},
   "outputs": [
    {
     "name": "stdout",
     "output_type": "stream",
     "text": [
      "[{'name': 'rohit', 'age': 21}, {'name': 'shakya', 'age': 21}, {'name': 'John Doe', 'age': 29}, {'name': 'John', 'age': 30}, {'name': 'iamrohit', 'age': 21}]\n"
     ]
    }
   ],
   "source": [
    "f = open('personal.json','r') \n",
    "  \n",
    "# returns JSON object as  \n",
    "# a dictionary \n",
    "data = json.load(f) \n",
    "print(data)"
   ]
  },
  {
   "cell_type": "code",
   "execution_count": null,
   "metadata": {},
   "outputs": [],
   "source": []
  }
 ],
 "metadata": {
  "kernelspec": {
   "display_name": "Python 3",
   "language": "python",
   "name": "python3"
  },
  "language_info": {
   "codemirror_mode": {
    "name": "ipython",
    "version": 3
   },
   "file_extension": ".py",
   "mimetype": "text/x-python",
   "name": "python",
   "nbconvert_exporter": "python",
   "pygments_lexer": "ipython3",
   "version": "3.8.5"
  }
 },
 "nbformat": 4,
 "nbformat_minor": 4
}
