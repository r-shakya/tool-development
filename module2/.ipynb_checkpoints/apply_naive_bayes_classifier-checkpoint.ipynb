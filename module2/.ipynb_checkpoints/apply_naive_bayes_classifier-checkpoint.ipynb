{
 "cells": [
  {
   "cell_type": "code",
   "execution_count": 23,
   "metadata": {},
   "outputs": [],
   "source": [
    "#import library\n",
    "import sklearn.datasets as skd"
   ]
  },
  {
   "cell_type": "code",
   "execution_count": 24,
   "metadata": {},
   "outputs": [
    {
     "name": "stdout",
     "output_type": "stream",
     "text": [
      "3000\n",
      "587\n"
     ]
    }
   ],
   "source": [
    "import json\n",
    "#import data\n",
    "f = open('train_data.json','r')\n",
    "train = json.load(f) \n",
    "f.close() \n",
    "\n",
    "f = open('test_data.json','r')\n",
    "test = json.load(f) \n",
    "f.close()\n",
    "\n",
    "print(len(train[\"labels\"]))\n",
    "print(len(test[\"labels\"]))"
   ]
  },
  {
   "cell_type": "code",
   "execution_count": 25,
   "metadata": {},
   "outputs": [
    {
     "name": "stdout",
     "output_type": "stream",
     "text": [
      "ImportError: DLL load failed: A dynamic link library (DLL) initialization routine failed. 5\n",
      "Error when computing gradients of a reloaded SavedModel containing an if clause 1\n"
     ]
    }
   ],
   "source": [
    "#check data\n",
    "print(train[\"titles\"][0],train[\"labels\"][0])\n",
    "print(test[\"titles\"][0],test[\"labels\"][0])"
   ]
  },
  {
   "cell_type": "code",
   "execution_count": 26,
   "metadata": {},
   "outputs": [
    {
     "name": "stdout",
     "output_type": "stream",
     "text": [
      "dict_keys(['titles', 'labels', 'cat'])\n"
     ]
    }
   ],
   "source": [
    "print(train.keys())"
   ]
  },
  {
   "cell_type": "code",
   "execution_count": 27,
   "metadata": {},
   "outputs": [
    {
     "name": "stdout",
     "output_type": "stream",
     "text": [
      "['docs-bug', 'bug', 'feature', 'support', 'performance', 'build/install']\n"
     ]
    }
   ],
   "source": [
    "print(train[\"cat\"])"
   ]
  },
  {
   "cell_type": "code",
   "execution_count": 28,
   "metadata": {},
   "outputs": [
    {
     "data": {
      "text/plain": [
       "(3000, 4313)"
      ]
     },
     "execution_count": 28,
     "metadata": {},
     "output_type": "execute_result"
    }
   ],
   "source": [
    "#transform data\n",
    "from sklearn.feature_extraction.text import CountVectorizer\n",
    "count_vect=CountVectorizer()\n",
    "X_train_tf=count_vect.fit_transform(train[\"titles\"])\n",
    "X_train_tf.shape"
   ]
  },
  {
   "cell_type": "code",
   "execution_count": 29,
   "metadata": {},
   "outputs": [
    {
     "data": {
      "text/plain": [
       "(3000, 4313)"
      ]
     },
     "execution_count": 29,
     "metadata": {},
     "output_type": "execute_result"
    }
   ],
   "source": [
    "from sklearn.feature_extraction.text import TfidfTransformer\n",
    "tfidf_transformer = TfidfTransformer()\n",
    "X_train_tfidf=tfidf_transformer.fit_transform(X_train_tf)\n",
    "X_train_tfidf.shape"
   ]
  },
  {
   "cell_type": "code",
   "execution_count": 30,
   "metadata": {},
   "outputs": [],
   "source": [
    "#apply naive bayes\n",
    "from sklearn.naive_bayes import MultinomialNB\n",
    "clf = MultinomialNB().fit(X_train_tfidf, train[\"labels\"])"
   ]
  },
  {
   "cell_type": "code",
   "execution_count": 31,
   "metadata": {},
   "outputs": [],
   "source": [
    "#transform test data\n",
    "X_test_tf=count_vect.transform(test[\"titles\"])\n",
    "X_test_tfidf=tfidf_transformer.transform(X_test_tf)\n",
    "predicted = clf.predict(X_test_tfidf)"
   ]
  },
  {
   "cell_type": "code",
   "execution_count": 33,
   "metadata": {},
   "outputs": [
    {
     "name": "stdout",
     "output_type": "stream",
     "text": [
      "Accuracy:  0.5110732538330494\n",
      "               precision    recall  f1-score   support\n",
      "\n",
      "     docs-bug       0.00      0.00      0.00        24\n",
      "          bug       0.49      0.82      0.61       243\n",
      "      feature       0.00      0.00      0.00        36\n",
      "      support       0.33      0.17      0.23       150\n",
      "  performance       0.00      0.00      0.00        24\n",
      "build/install       0.74      0.68      0.71       110\n",
      "\n",
      "     accuracy                           0.51       587\n",
      "    macro avg       0.26      0.28      0.26       587\n",
      " weighted avg       0.42      0.51      0.44       587\n",
      "\n"
     ]
    },
    {
     "data": {
      "text/plain": [
       "(None,\n",
       " array([[  0,  20,   0,   3,   0,   1],\n",
       "        [  0, 199,   0,  36,   0,   8],\n",
       "        [  0,  30,   0,   4,   0,   2],\n",
       "        [  0, 109,   0,  26,   0,  15],\n",
       "        [  0,  19,   0,   4,   0,   1],\n",
       "        [  0,  28,   0,   7,   0,  75]], dtype=int64))"
      ]
     },
     "execution_count": 33,
     "metadata": {},
     "output_type": "execute_result"
    }
   ],
   "source": [
    "from sklearn import metrics\n",
    "from sklearn.metrics import accuracy_score\n",
    "print(\"Accuracy: \",accuracy_score(test[\"labels\"],predicted))\n",
    "print(metrics.classification_report(test[\"labels\"],predicted,target_names=test[\"cat\"])),metrics.confusion_matrix(test[\"labels\"],predicted)\n"
   ]
  },
  {
   "cell_type": "code",
   "execution_count": null,
   "metadata": {},
   "outputs": [],
   "source": []
  },
  {
   "cell_type": "code",
   "execution_count": null,
   "metadata": {},
   "outputs": [],
   "source": []
  },
  {
   "cell_type": "code",
   "execution_count": null,
   "metadata": {},
   "outputs": [],
   "source": []
  },
  {
   "cell_type": "code",
   "execution_count": null,
   "metadata": {},
   "outputs": [],
   "source": []
  },
  {
   "cell_type": "code",
   "execution_count": null,
   "metadata": {},
   "outputs": [],
   "source": []
  },
  {
   "cell_type": "code",
   "execution_count": null,
   "metadata": {},
   "outputs": [],
   "source": []
  },
  {
   "cell_type": "code",
   "execution_count": null,
   "metadata": {},
   "outputs": [],
   "source": []
  },
  {
   "cell_type": "code",
   "execution_count": null,
   "metadata": {},
   "outputs": [],
   "source": []
  },
  {
   "cell_type": "code",
   "execution_count": null,
   "metadata": {},
   "outputs": [],
   "source": []
  },
  {
   "cell_type": "code",
   "execution_count": null,
   "metadata": {},
   "outputs": [],
   "source": []
  }
 ],
 "metadata": {
  "kernelspec": {
   "display_name": "Python 3",
   "language": "python",
   "name": "python3"
  },
  "language_info": {
   "codemirror_mode": {
    "name": "ipython",
    "version": 3
   },
   "file_extension": ".py",
   "mimetype": "text/x-python",
   "name": "python",
   "nbconvert_exporter": "python",
   "pygments_lexer": "ipython3",
   "version": "3.8.5"
  }
 },
 "nbformat": 4,
 "nbformat_minor": 4
}
