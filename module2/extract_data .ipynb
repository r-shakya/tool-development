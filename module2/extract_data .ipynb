{
 "cells": [
  {
   "cell_type": "code",
   "execution_count": null,
   "metadata": {},
   "outputs": [],
   "source": [
    "from github import Github\n",
    "import os\n",
    "import csv\n",
    "import sys\n",
    "from pprint import pprint\n",
    "\n",
    "\n",
    "repo_names=[\"tensorflow/tensorflow\"]\n",
    "\n",
    "token = os.getenv('GITHUB_TOKEN', '2b3b3ef9c7a76353ad55e3ead17092dea3727cef') \n",
    "g = Github(token)\n",
    "for repo_name in repo_names:\n",
    "    repo = g.get_repo(repo_name)\n",
    "    issues = repo.get_issues(state='all')\n",
    "    print(issues[0].label)\n",
    "\n",
    "    fields = ['issue', 'number', 'state', 'link']\n",
    "\n",
    "    # copying all the issues to a csv file\n",
    "\n",
    "    filename=(repo_name+'.csv').replace('/','_')\n",
    "    with open(filename, \"w\", encoding='utf-8') as file:\n",
    "        csv_file = csv.writer(file)\n",
    "        cols = fields\n",
    "        csv_file.writerow(cols)\n",
    "        for issue in issues:\n",
    "            row = [issue.title, issue.number, issue.state,\n",
    "                   'https://github.com/'+repo_name+'/issues/' + str(issue.number)]\n",
    "            csv_file.writerow(row)"
   ]
  }
 ],
 "metadata": {
  "kernelspec": {
   "display_name": "Python 3",
   "language": "python",
   "name": "python3"
  },
  "language_info": {
   "codemirror_mode": {
    "name": "ipython",
    "version": 3
   },
   "file_extension": ".py",
   "mimetype": "text/x-python",
   "name": "python",
   "nbconvert_exporter": "python",
   "pygments_lexer": "ipython3",
   "version": "3.8.5"
  }
 },
 "nbformat": 4,
 "nbformat_minor": 4
}
