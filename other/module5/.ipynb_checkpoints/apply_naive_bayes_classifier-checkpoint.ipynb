{
 "cells": [
  {
   "cell_type": "code",
   "execution_count": 14,
   "metadata": {},
   "outputs": [],
   "source": [
    "#import library\n",
    "import sklearn.datasets as skd"
   ]
  },
  {
   "cell_type": "code",
   "execution_count": 15,
   "metadata": {},
   "outputs": [
    {
     "name": "stdout",
     "output_type": "stream",
     "text": [
      "10000\n",
      "2331\n"
     ]
    }
   ],
   "source": [
    "import json\n",
    "#import data\n",
    "f = open('train_data.json','r')\n",
    "train = json.load(f) \n",
    "f.close() \n",
    "\n",
    "f = open('test_data.json','r')\n",
    "test = json.load(f) \n",
    "f.close()\n",
    "\n",
    "print(len(train[\"labels\"]))\n",
    "print(len(test[\"labels\"]))"
   ]
  },
  {
   "cell_type": "code",
   "execution_count": 16,
   "metadata": {},
   "outputs": [
    {
     "name": "stdout",
     "output_type": "stream",
     "text": [
      "ImportError: DLL load failed: A dynamic link library (DLL) initialization routine failed. 5\n",
      "tf_nightly_gpu_2.0_preview-2.0.0.dev20190420  import error 5\n"
     ]
    }
   ],
   "source": [
    "#check data\n",
    "print(train[\"titles\"][0],train[\"labels\"][0])\n",
    "print(test[\"titles\"][0],test[\"labels\"][0])"
   ]
  },
  {
   "cell_type": "code",
   "execution_count": 17,
   "metadata": {},
   "outputs": [
    {
     "name": "stdout",
     "output_type": "stream",
     "text": [
      "dict_keys(['titles', 'labels', 'cat'])\n"
     ]
    }
   ],
   "source": [
    "print(train.keys())"
   ]
  },
  {
   "cell_type": "code",
   "execution_count": 18,
   "metadata": {},
   "outputs": [
    {
     "name": "stdout",
     "output_type": "stream",
     "text": [
      "['docs-bug', 'bug', 'feature', 'support', 'performance', 'build/install']\n"
     ]
    }
   ],
   "source": [
    "print(train[\"cat\"])"
   ]
  },
  {
   "cell_type": "code",
   "execution_count": 19,
   "metadata": {},
   "outputs": [
    {
     "name": "stdout",
     "output_type": "stream",
     "text": [
      "(10000, 8327)\n"
     ]
    }
   ],
   "source": [
    "#transform data\n",
    "from sklearn.feature_extraction.text import CountVectorizer\n",
    "count_vect=CountVectorizer()\n",
    "X_train_tf=count_vect.fit_transform(train[\"titles\"])\n",
    "print(X_train_tf.shape)"
   ]
  },
  {
   "cell_type": "code",
   "execution_count": 20,
   "metadata": {},
   "outputs": [
    {
     "name": "stdout",
     "output_type": "stream",
     "text": [
      "(10000, 8327)\n"
     ]
    }
   ],
   "source": [
    "from sklearn.feature_extraction.text import TfidfTransformer\n",
    "tfidf_transformer = TfidfTransformer()\n",
    "X_train_tfidf=tfidf_transformer.fit_transform(X_train_tf)\n",
    "print(X_train_tfidf.shape)"
   ]
  },
  {
   "cell_type": "code",
   "execution_count": 21,
   "metadata": {},
   "outputs": [],
   "source": [
    "#apply naive bayes\n",
    "from sklearn.naive_bayes import MultinomialNB\n",
    "clf = MultinomialNB().fit(X_train_tfidf, train[\"labels\"])"
   ]
  },
  {
   "cell_type": "code",
   "execution_count": 22,
   "metadata": {},
   "outputs": [],
   "source": [
    "#transform test data\n",
    "X_test_tf=count_vect.transform(test[\"titles\"])\n",
    "X_test_tfidf=tfidf_transformer.transform(X_test_tf)\n",
    "predicted = clf.predict(X_test_tfidf)"
   ]
  },
  {
   "cell_type": "code",
   "execution_count": 24,
   "metadata": {},
   "outputs": [
    {
     "name": "stdout",
     "output_type": "stream",
     "text": [
      "Accuracy:\n",
      " 0.5426855426855427\n",
      "\n",
      "               precision    recall  f1-score   support\n",
      "\n",
      "     docs-bug       0.88      0.03      0.06       221\n",
      "          bug       0.41      0.75      0.53       615\n",
      "      feature       0.00      0.00      0.00       236\n",
      "      support       0.46      0.46      0.46       597\n",
      "  performance       0.00      0.00      0.00         0\n",
      "build/install       0.86      0.78      0.82       662\n",
      "\n",
      "     accuracy                           0.54      2331\n",
      "    macro avg       0.43      0.34      0.31      2331\n",
      " weighted avg       0.55      0.54      0.50      2331\n",
      "\n",
      "\n",
      "confusion matrix:\n",
      " [[  7 154   0  47   0  13]\n",
      " [  1 463   0 131   0  20]\n",
      " [  0 161   0  69   0   6]\n",
      " [  0 274   0 276   1  46]\n",
      " [  0   0   0   0   0   0]\n",
      " [  0  69   0  74   0 519]]\n"
     ]
    }
   ],
   "source": [
    "from sklearn import metrics\n",
    "from sklearn.metrics import accuracy_score\n",
    "print(\"Accuracy:\\n\",accuracy_score(test[\"labels\"],predicted))\n",
    "print()\n",
    "print(metrics.classification_report(test[\"labels\"],predicted,target_names=test[\"cat\"]))\n",
    "print()\n",
    "print(\"confusion matrix:\\n\",metrics.confusion_matrix(test[\"labels\"],predicted))\n"
   ]
  },
  {
   "cell_type": "code",
   "execution_count": null,
   "metadata": {},
   "outputs": [],
   "source": []
  },
  {
   "cell_type": "code",
   "execution_count": null,
   "metadata": {},
   "outputs": [],
   "source": []
  },
  {
   "cell_type": "code",
   "execution_count": null,
   "metadata": {},
   "outputs": [],
   "source": []
  },
  {
   "cell_type": "code",
   "execution_count": null,
   "metadata": {},
   "outputs": [],
   "source": []
  },
  {
   "cell_type": "code",
   "execution_count": null,
   "metadata": {},
   "outputs": [],
   "source": []
  },
  {
   "cell_type": "code",
   "execution_count": null,
   "metadata": {},
   "outputs": [],
   "source": []
  },
  {
   "cell_type": "code",
   "execution_count": null,
   "metadata": {},
   "outputs": [],
   "source": []
  },
  {
   "cell_type": "code",
   "execution_count": null,
   "metadata": {},
   "outputs": [],
   "source": []
  },
  {
   "cell_type": "code",
   "execution_count": null,
   "metadata": {},
   "outputs": [],
   "source": []
  },
  {
   "cell_type": "code",
   "execution_count": null,
   "metadata": {},
   "outputs": [],
   "source": []
  }
 ],
 "metadata": {
  "kernelspec": {
   "display_name": "Python 3",
   "language": "python",
   "name": "python3"
  },
  "language_info": {
   "codemirror_mode": {
    "name": "ipython",
    "version": 3
   },
   "file_extension": ".py",
   "mimetype": "text/x-python",
   "name": "python",
   "nbconvert_exporter": "python",
   "pygments_lexer": "ipython3",
   "version": "3.8.5"
  }
 },
 "nbformat": 4,
 "nbformat_minor": 4
}
